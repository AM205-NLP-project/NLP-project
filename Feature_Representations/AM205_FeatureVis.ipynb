{
  "nbformat": 4,
  "nbformat_minor": 0,
  "metadata": {
    "colab": {
      "name": "AM205_FeatureVis.ipynb",
      "provenance": [],
      "collapsed_sections": [],
      "background_execution": "on"
    },
    "kernelspec": {
      "name": "python3",
      "display_name": "Python 3"
    },
    "language_info": {
      "name": "python"
    },
    "accelerator": "GPU",
    "widgets": {
      "application/vnd.jupyter.widget-state+json": {
        "ac7e8d5f4e804d4f848340ab5045da99": {
          "model_module": "@jupyter-widgets/controls",
          "model_name": "HBoxModel",
          "model_module_version": "1.5.0",
          "state": {
            "_view_name": "HBoxView",
            "_dom_classes": [],
            "_model_name": "HBoxModel",
            "_view_module": "@jupyter-widgets/controls",
            "_model_module_version": "1.5.0",
            "_view_count": null,
            "_view_module_version": "1.5.0",
            "box_style": "",
            "layout": "IPY_MODEL_2e8aab1a525f4957a8f9a97e8d8618b0",
            "_model_module": "@jupyter-widgets/controls",
            "children": [
              "IPY_MODEL_3ae233d550874d39bfc8a6bd14cca9c9",
              "IPY_MODEL_64f303218cde44c9b59403ff1709f699",
              "IPY_MODEL_2dd6ea209cd04ed29b795b5e3a1d73e2"
            ]
          }
        },
        "2e8aab1a525f4957a8f9a97e8d8618b0": {
          "model_module": "@jupyter-widgets/base",
          "model_name": "LayoutModel",
          "model_module_version": "1.2.0",
          "state": {
            "_view_name": "LayoutView",
            "grid_template_rows": null,
            "right": null,
            "justify_content": null,
            "_view_module": "@jupyter-widgets/base",
            "overflow": null,
            "_model_module_version": "1.2.0",
            "_view_count": null,
            "flex_flow": null,
            "width": null,
            "min_width": null,
            "border": null,
            "align_items": null,
            "bottom": null,
            "_model_module": "@jupyter-widgets/base",
            "top": null,
            "grid_column": null,
            "overflow_y": null,
            "overflow_x": null,
            "grid_auto_flow": null,
            "grid_area": null,
            "grid_template_columns": null,
            "flex": null,
            "_model_name": "LayoutModel",
            "justify_items": null,
            "grid_row": null,
            "max_height": null,
            "align_content": null,
            "visibility": null,
            "align_self": null,
            "height": null,
            "min_height": null,
            "padding": null,
            "grid_auto_rows": null,
            "grid_gap": null,
            "max_width": null,
            "order": null,
            "_view_module_version": "1.2.0",
            "grid_template_areas": null,
            "object_position": null,
            "object_fit": null,
            "grid_auto_columns": null,
            "margin": null,
            "display": null,
            "left": null
          }
        },
        "3ae233d550874d39bfc8a6bd14cca9c9": {
          "model_module": "@jupyter-widgets/controls",
          "model_name": "HTMLModel",
          "model_module_version": "1.5.0",
          "state": {
            "_view_name": "HTMLView",
            "style": "IPY_MODEL_4f534793476144f3859ecdb812a9b30a",
            "_dom_classes": [],
            "description": "",
            "_model_name": "HTMLModel",
            "placeholder": "​",
            "_view_module": "@jupyter-widgets/controls",
            "_model_module_version": "1.5.0",
            "value": "Downloading: 100%",
            "_view_count": null,
            "_view_module_version": "1.5.0",
            "description_tooltip": null,
            "_model_module": "@jupyter-widgets/controls",
            "layout": "IPY_MODEL_6fb37b6b666a4f81a1f6c8393ad668ca"
          }
        },
        "64f303218cde44c9b59403ff1709f699": {
          "model_module": "@jupyter-widgets/controls",
          "model_name": "FloatProgressModel",
          "model_module_version": "1.5.0",
          "state": {
            "_view_name": "ProgressView",
            "style": "IPY_MODEL_e33a5e00281c4917bfcc9819ec83e8ec",
            "_dom_classes": [],
            "description": "",
            "_model_name": "FloatProgressModel",
            "bar_style": "success",
            "max": 665,
            "_view_module": "@jupyter-widgets/controls",
            "_model_module_version": "1.5.0",
            "value": 665,
            "_view_count": null,
            "_view_module_version": "1.5.0",
            "orientation": "horizontal",
            "min": 0,
            "description_tooltip": null,
            "_model_module": "@jupyter-widgets/controls",
            "layout": "IPY_MODEL_802be2c4be094ece8c9c3db6fc63c1e8"
          }
        },
        "2dd6ea209cd04ed29b795b5e3a1d73e2": {
          "model_module": "@jupyter-widgets/controls",
          "model_name": "HTMLModel",
          "model_module_version": "1.5.0",
          "state": {
            "_view_name": "HTMLView",
            "style": "IPY_MODEL_856a6abc627341ebbfb8e3c16898193c",
            "_dom_classes": [],
            "description": "",
            "_model_name": "HTMLModel",
            "placeholder": "​",
            "_view_module": "@jupyter-widgets/controls",
            "_model_module_version": "1.5.0",
            "value": " 665/665 [00:00&lt;00:00, 18.1kB/s]",
            "_view_count": null,
            "_view_module_version": "1.5.0",
            "description_tooltip": null,
            "_model_module": "@jupyter-widgets/controls",
            "layout": "IPY_MODEL_d51b601a3e294b32ade386187a974619"
          }
        },
        "4f534793476144f3859ecdb812a9b30a": {
          "model_module": "@jupyter-widgets/controls",
          "model_name": "DescriptionStyleModel",
          "model_module_version": "1.5.0",
          "state": {
            "_view_name": "StyleView",
            "_model_name": "DescriptionStyleModel",
            "description_width": "",
            "_view_module": "@jupyter-widgets/base",
            "_model_module_version": "1.5.0",
            "_view_count": null,
            "_view_module_version": "1.2.0",
            "_model_module": "@jupyter-widgets/controls"
          }
        },
        "6fb37b6b666a4f81a1f6c8393ad668ca": {
          "model_module": "@jupyter-widgets/base",
          "model_name": "LayoutModel",
          "model_module_version": "1.2.0",
          "state": {
            "_view_name": "LayoutView",
            "grid_template_rows": null,
            "right": null,
            "justify_content": null,
            "_view_module": "@jupyter-widgets/base",
            "overflow": null,
            "_model_module_version": "1.2.0",
            "_view_count": null,
            "flex_flow": null,
            "width": null,
            "min_width": null,
            "border": null,
            "align_items": null,
            "bottom": null,
            "_model_module": "@jupyter-widgets/base",
            "top": null,
            "grid_column": null,
            "overflow_y": null,
            "overflow_x": null,
            "grid_auto_flow": null,
            "grid_area": null,
            "grid_template_columns": null,
            "flex": null,
            "_model_name": "LayoutModel",
            "justify_items": null,
            "grid_row": null,
            "max_height": null,
            "align_content": null,
            "visibility": null,
            "align_self": null,
            "height": null,
            "min_height": null,
            "padding": null,
            "grid_auto_rows": null,
            "grid_gap": null,
            "max_width": null,
            "order": null,
            "_view_module_version": "1.2.0",
            "grid_template_areas": null,
            "object_position": null,
            "object_fit": null,
            "grid_auto_columns": null,
            "margin": null,
            "display": null,
            "left": null
          }
        },
        "e33a5e00281c4917bfcc9819ec83e8ec": {
          "model_module": "@jupyter-widgets/controls",
          "model_name": "ProgressStyleModel",
          "model_module_version": "1.5.0",
          "state": {
            "_view_name": "StyleView",
            "_model_name": "ProgressStyleModel",
            "description_width": "",
            "_view_module": "@jupyter-widgets/base",
            "_model_module_version": "1.5.0",
            "_view_count": null,
            "_view_module_version": "1.2.0",
            "bar_color": null,
            "_model_module": "@jupyter-widgets/controls"
          }
        },
        "802be2c4be094ece8c9c3db6fc63c1e8": {
          "model_module": "@jupyter-widgets/base",
          "model_name": "LayoutModel",
          "model_module_version": "1.2.0",
          "state": {
            "_view_name": "LayoutView",
            "grid_template_rows": null,
            "right": null,
            "justify_content": null,
            "_view_module": "@jupyter-widgets/base",
            "overflow": null,
            "_model_module_version": "1.2.0",
            "_view_count": null,
            "flex_flow": null,
            "width": null,
            "min_width": null,
            "border": null,
            "align_items": null,
            "bottom": null,
            "_model_module": "@jupyter-widgets/base",
            "top": null,
            "grid_column": null,
            "overflow_y": null,
            "overflow_x": null,
            "grid_auto_flow": null,
            "grid_area": null,
            "grid_template_columns": null,
            "flex": null,
            "_model_name": "LayoutModel",
            "justify_items": null,
            "grid_row": null,
            "max_height": null,
            "align_content": null,
            "visibility": null,
            "align_self": null,
            "height": null,
            "min_height": null,
            "padding": null,
            "grid_auto_rows": null,
            "grid_gap": null,
            "max_width": null,
            "order": null,
            "_view_module_version": "1.2.0",
            "grid_template_areas": null,
            "object_position": null,
            "object_fit": null,
            "grid_auto_columns": null,
            "margin": null,
            "display": null,
            "left": null
          }
        },
        "856a6abc627341ebbfb8e3c16898193c": {
          "model_module": "@jupyter-widgets/controls",
          "model_name": "DescriptionStyleModel",
          "model_module_version": "1.5.0",
          "state": {
            "_view_name": "StyleView",
            "_model_name": "DescriptionStyleModel",
            "description_width": "",
            "_view_module": "@jupyter-widgets/base",
            "_model_module_version": "1.5.0",
            "_view_count": null,
            "_view_module_version": "1.2.0",
            "_model_module": "@jupyter-widgets/controls"
          }
        },
        "d51b601a3e294b32ade386187a974619": {
          "model_module": "@jupyter-widgets/base",
          "model_name": "LayoutModel",
          "model_module_version": "1.2.0",
          "state": {
            "_view_name": "LayoutView",
            "grid_template_rows": null,
            "right": null,
            "justify_content": null,
            "_view_module": "@jupyter-widgets/base",
            "overflow": null,
            "_model_module_version": "1.2.0",
            "_view_count": null,
            "flex_flow": null,
            "width": null,
            "min_width": null,
            "border": null,
            "align_items": null,
            "bottom": null,
            "_model_module": "@jupyter-widgets/base",
            "top": null,
            "grid_column": null,
            "overflow_y": null,
            "overflow_x": null,
            "grid_auto_flow": null,
            "grid_area": null,
            "grid_template_columns": null,
            "flex": null,
            "_model_name": "LayoutModel",
            "justify_items": null,
            "grid_row": null,
            "max_height": null,
            "align_content": null,
            "visibility": null,
            "align_self": null,
            "height": null,
            "min_height": null,
            "padding": null,
            "grid_auto_rows": null,
            "grid_gap": null,
            "max_width": null,
            "order": null,
            "_view_module_version": "1.2.0",
            "grid_template_areas": null,
            "object_position": null,
            "object_fit": null,
            "grid_auto_columns": null,
            "margin": null,
            "display": null,
            "left": null
          }
        },
        "c8b6316f56fa468f8a7a6c8ef5a947ec": {
          "model_module": "@jupyter-widgets/controls",
          "model_name": "HBoxModel",
          "model_module_version": "1.5.0",
          "state": {
            "_view_name": "HBoxView",
            "_dom_classes": [],
            "_model_name": "HBoxModel",
            "_view_module": "@jupyter-widgets/controls",
            "_model_module_version": "1.5.0",
            "_view_count": null,
            "_view_module_version": "1.5.0",
            "box_style": "",
            "layout": "IPY_MODEL_736f3ec2912e4bcc8988f8502f3d14a2",
            "_model_module": "@jupyter-widgets/controls",
            "children": [
              "IPY_MODEL_ea2881d2ede44219908673696efefe92",
              "IPY_MODEL_4d14906fced845d588bc8053ad0ef24f",
              "IPY_MODEL_d8228384300d4cbfb011145fb884d240"
            ]
          }
        },
        "736f3ec2912e4bcc8988f8502f3d14a2": {
          "model_module": "@jupyter-widgets/base",
          "model_name": "LayoutModel",
          "model_module_version": "1.2.0",
          "state": {
            "_view_name": "LayoutView",
            "grid_template_rows": null,
            "right": null,
            "justify_content": null,
            "_view_module": "@jupyter-widgets/base",
            "overflow": null,
            "_model_module_version": "1.2.0",
            "_view_count": null,
            "flex_flow": null,
            "width": null,
            "min_width": null,
            "border": null,
            "align_items": null,
            "bottom": null,
            "_model_module": "@jupyter-widgets/base",
            "top": null,
            "grid_column": null,
            "overflow_y": null,
            "overflow_x": null,
            "grid_auto_flow": null,
            "grid_area": null,
            "grid_template_columns": null,
            "flex": null,
            "_model_name": "LayoutModel",
            "justify_items": null,
            "grid_row": null,
            "max_height": null,
            "align_content": null,
            "visibility": null,
            "align_self": null,
            "height": null,
            "min_height": null,
            "padding": null,
            "grid_auto_rows": null,
            "grid_gap": null,
            "max_width": null,
            "order": null,
            "_view_module_version": "1.2.0",
            "grid_template_areas": null,
            "object_position": null,
            "object_fit": null,
            "grid_auto_columns": null,
            "margin": null,
            "display": null,
            "left": null
          }
        },
        "ea2881d2ede44219908673696efefe92": {
          "model_module": "@jupyter-widgets/controls",
          "model_name": "HTMLModel",
          "model_module_version": "1.5.0",
          "state": {
            "_view_name": "HTMLView",
            "style": "IPY_MODEL_09850612e17d4f179ebbb15adf093b4f",
            "_dom_classes": [],
            "description": "",
            "_model_name": "HTMLModel",
            "placeholder": "​",
            "_view_module": "@jupyter-widgets/controls",
            "_model_module_version": "1.5.0",
            "value": "Downloading: 100%",
            "_view_count": null,
            "_view_module_version": "1.5.0",
            "description_tooltip": null,
            "_model_module": "@jupyter-widgets/controls",
            "layout": "IPY_MODEL_fd0d5ef7776a48ca8083cb1061ae911d"
          }
        },
        "4d14906fced845d588bc8053ad0ef24f": {
          "model_module": "@jupyter-widgets/controls",
          "model_name": "FloatProgressModel",
          "model_module_version": "1.5.0",
          "state": {
            "_view_name": "ProgressView",
            "style": "IPY_MODEL_8d4684f3f93d4282a2fb44d4b6a6a107",
            "_dom_classes": [],
            "description": "",
            "_model_name": "FloatProgressModel",
            "bar_style": "success",
            "max": 1042301,
            "_view_module": "@jupyter-widgets/controls",
            "_model_module_version": "1.5.0",
            "value": 1042301,
            "_view_count": null,
            "_view_module_version": "1.5.0",
            "orientation": "horizontal",
            "min": 0,
            "description_tooltip": null,
            "_model_module": "@jupyter-widgets/controls",
            "layout": "IPY_MODEL_a43bd816723949c3aa6203f8f42d2e7d"
          }
        },
        "d8228384300d4cbfb011145fb884d240": {
          "model_module": "@jupyter-widgets/controls",
          "model_name": "HTMLModel",
          "model_module_version": "1.5.0",
          "state": {
            "_view_name": "HTMLView",
            "style": "IPY_MODEL_dd156b1bcf49470d8175d345b2b8d17d",
            "_dom_classes": [],
            "description": "",
            "_model_name": "HTMLModel",
            "placeholder": "​",
            "_view_module": "@jupyter-widgets/controls",
            "_model_module_version": "1.5.0",
            "value": " 0.99M/0.99M [00:01&lt;00:00, 1.32MB/s]",
            "_view_count": null,
            "_view_module_version": "1.5.0",
            "description_tooltip": null,
            "_model_module": "@jupyter-widgets/controls",
            "layout": "IPY_MODEL_2678b293719a4a8fbee826de697dfd3e"
          }
        },
        "09850612e17d4f179ebbb15adf093b4f": {
          "model_module": "@jupyter-widgets/controls",
          "model_name": "DescriptionStyleModel",
          "model_module_version": "1.5.0",
          "state": {
            "_view_name": "StyleView",
            "_model_name": "DescriptionStyleModel",
            "description_width": "",
            "_view_module": "@jupyter-widgets/base",
            "_model_module_version": "1.5.0",
            "_view_count": null,
            "_view_module_version": "1.2.0",
            "_model_module": "@jupyter-widgets/controls"
          }
        },
        "fd0d5ef7776a48ca8083cb1061ae911d": {
          "model_module": "@jupyter-widgets/base",
          "model_name": "LayoutModel",
          "model_module_version": "1.2.0",
          "state": {
            "_view_name": "LayoutView",
            "grid_template_rows": null,
            "right": null,
            "justify_content": null,
            "_view_module": "@jupyter-widgets/base",
            "overflow": null,
            "_model_module_version": "1.2.0",
            "_view_count": null,
            "flex_flow": null,
            "width": null,
            "min_width": null,
            "border": null,
            "align_items": null,
            "bottom": null,
            "_model_module": "@jupyter-widgets/base",
            "top": null,
            "grid_column": null,
            "overflow_y": null,
            "overflow_x": null,
            "grid_auto_flow": null,
            "grid_area": null,
            "grid_template_columns": null,
            "flex": null,
            "_model_name": "LayoutModel",
            "justify_items": null,
            "grid_row": null,
            "max_height": null,
            "align_content": null,
            "visibility": null,
            "align_self": null,
            "height": null,
            "min_height": null,
            "padding": null,
            "grid_auto_rows": null,
            "grid_gap": null,
            "max_width": null,
            "order": null,
            "_view_module_version": "1.2.0",
            "grid_template_areas": null,
            "object_position": null,
            "object_fit": null,
            "grid_auto_columns": null,
            "margin": null,
            "display": null,
            "left": null
          }
        },
        "8d4684f3f93d4282a2fb44d4b6a6a107": {
          "model_module": "@jupyter-widgets/controls",
          "model_name": "ProgressStyleModel",
          "model_module_version": "1.5.0",
          "state": {
            "_view_name": "StyleView",
            "_model_name": "ProgressStyleModel",
            "description_width": "",
            "_view_module": "@jupyter-widgets/base",
            "_model_module_version": "1.5.0",
            "_view_count": null,
            "_view_module_version": "1.2.0",
            "bar_color": null,
            "_model_module": "@jupyter-widgets/controls"
          }
        },
        "a43bd816723949c3aa6203f8f42d2e7d": {
          "model_module": "@jupyter-widgets/base",
          "model_name": "LayoutModel",
          "model_module_version": "1.2.0",
          "state": {
            "_view_name": "LayoutView",
            "grid_template_rows": null,
            "right": null,
            "justify_content": null,
            "_view_module": "@jupyter-widgets/base",
            "overflow": null,
            "_model_module_version": "1.2.0",
            "_view_count": null,
            "flex_flow": null,
            "width": null,
            "min_width": null,
            "border": null,
            "align_items": null,
            "bottom": null,
            "_model_module": "@jupyter-widgets/base",
            "top": null,
            "grid_column": null,
            "overflow_y": null,
            "overflow_x": null,
            "grid_auto_flow": null,
            "grid_area": null,
            "grid_template_columns": null,
            "flex": null,
            "_model_name": "LayoutModel",
            "justify_items": null,
            "grid_row": null,
            "max_height": null,
            "align_content": null,
            "visibility": null,
            "align_self": null,
            "height": null,
            "min_height": null,
            "padding": null,
            "grid_auto_rows": null,
            "grid_gap": null,
            "max_width": null,
            "order": null,
            "_view_module_version": "1.2.0",
            "grid_template_areas": null,
            "object_position": null,
            "object_fit": null,
            "grid_auto_columns": null,
            "margin": null,
            "display": null,
            "left": null
          }
        },
        "dd156b1bcf49470d8175d345b2b8d17d": {
          "model_module": "@jupyter-widgets/controls",
          "model_name": "DescriptionStyleModel",
          "model_module_version": "1.5.0",
          "state": {
            "_view_name": "StyleView",
            "_model_name": "DescriptionStyleModel",
            "description_width": "",
            "_view_module": "@jupyter-widgets/base",
            "_model_module_version": "1.5.0",
            "_view_count": null,
            "_view_module_version": "1.2.0",
            "_model_module": "@jupyter-widgets/controls"
          }
        },
        "2678b293719a4a8fbee826de697dfd3e": {
          "model_module": "@jupyter-widgets/base",
          "model_name": "LayoutModel",
          "model_module_version": "1.2.0",
          "state": {
            "_view_name": "LayoutView",
            "grid_template_rows": null,
            "right": null,
            "justify_content": null,
            "_view_module": "@jupyter-widgets/base",
            "overflow": null,
            "_model_module_version": "1.2.0",
            "_view_count": null,
            "flex_flow": null,
            "width": null,
            "min_width": null,
            "border": null,
            "align_items": null,
            "bottom": null,
            "_model_module": "@jupyter-widgets/base",
            "top": null,
            "grid_column": null,
            "overflow_y": null,
            "overflow_x": null,
            "grid_auto_flow": null,
            "grid_area": null,
            "grid_template_columns": null,
            "flex": null,
            "_model_name": "LayoutModel",
            "justify_items": null,
            "grid_row": null,
            "max_height": null,
            "align_content": null,
            "visibility": null,
            "align_self": null,
            "height": null,
            "min_height": null,
            "padding": null,
            "grid_auto_rows": null,
            "grid_gap": null,
            "max_width": null,
            "order": null,
            "_view_module_version": "1.2.0",
            "grid_template_areas": null,
            "object_position": null,
            "object_fit": null,
            "grid_auto_columns": null,
            "margin": null,
            "display": null,
            "left": null
          }
        },
        "eaf3ca2a6bae492b86265abb9ae192e7": {
          "model_module": "@jupyter-widgets/controls",
          "model_name": "HBoxModel",
          "model_module_version": "1.5.0",
          "state": {
            "_view_name": "HBoxView",
            "_dom_classes": [],
            "_model_name": "HBoxModel",
            "_view_module": "@jupyter-widgets/controls",
            "_model_module_version": "1.5.0",
            "_view_count": null,
            "_view_module_version": "1.5.0",
            "box_style": "",
            "layout": "IPY_MODEL_098cb9fb1e2f4b72906369474fd43ef8",
            "_model_module": "@jupyter-widgets/controls",
            "children": [
              "IPY_MODEL_8dfb5ebe45944c2aa066708f3fba0f4c",
              "IPY_MODEL_c32f9dd0c5704dc3a773dfddedb3e1b4",
              "IPY_MODEL_4f05341b8b40418582c79397c628b8cf"
            ]
          }
        },
        "098cb9fb1e2f4b72906369474fd43ef8": {
          "model_module": "@jupyter-widgets/base",
          "model_name": "LayoutModel",
          "model_module_version": "1.2.0",
          "state": {
            "_view_name": "LayoutView",
            "grid_template_rows": null,
            "right": null,
            "justify_content": null,
            "_view_module": "@jupyter-widgets/base",
            "overflow": null,
            "_model_module_version": "1.2.0",
            "_view_count": null,
            "flex_flow": null,
            "width": null,
            "min_width": null,
            "border": null,
            "align_items": null,
            "bottom": null,
            "_model_module": "@jupyter-widgets/base",
            "top": null,
            "grid_column": null,
            "overflow_y": null,
            "overflow_x": null,
            "grid_auto_flow": null,
            "grid_area": null,
            "grid_template_columns": null,
            "flex": null,
            "_model_name": "LayoutModel",
            "justify_items": null,
            "grid_row": null,
            "max_height": null,
            "align_content": null,
            "visibility": null,
            "align_self": null,
            "height": null,
            "min_height": null,
            "padding": null,
            "grid_auto_rows": null,
            "grid_gap": null,
            "max_width": null,
            "order": null,
            "_view_module_version": "1.2.0",
            "grid_template_areas": null,
            "object_position": null,
            "object_fit": null,
            "grid_auto_columns": null,
            "margin": null,
            "display": null,
            "left": null
          }
        },
        "8dfb5ebe45944c2aa066708f3fba0f4c": {
          "model_module": "@jupyter-widgets/controls",
          "model_name": "HTMLModel",
          "model_module_version": "1.5.0",
          "state": {
            "_view_name": "HTMLView",
            "style": "IPY_MODEL_30d1692e2bdc4446b6a306d3092873f4",
            "_dom_classes": [],
            "description": "",
            "_model_name": "HTMLModel",
            "placeholder": "​",
            "_view_module": "@jupyter-widgets/controls",
            "_model_module_version": "1.5.0",
            "value": "Downloading: 100%",
            "_view_count": null,
            "_view_module_version": "1.5.0",
            "description_tooltip": null,
            "_model_module": "@jupyter-widgets/controls",
            "layout": "IPY_MODEL_4b65beedefe546bc8e5ce4a37df0cfc9"
          }
        },
        "c32f9dd0c5704dc3a773dfddedb3e1b4": {
          "model_module": "@jupyter-widgets/controls",
          "model_name": "FloatProgressModel",
          "model_module_version": "1.5.0",
          "state": {
            "_view_name": "ProgressView",
            "style": "IPY_MODEL_56fb491adf594e42b7e876255ac7e9db",
            "_dom_classes": [],
            "description": "",
            "_model_name": "FloatProgressModel",
            "bar_style": "success",
            "max": 456318,
            "_view_module": "@jupyter-widgets/controls",
            "_model_module_version": "1.5.0",
            "value": 456318,
            "_view_count": null,
            "_view_module_version": "1.5.0",
            "orientation": "horizontal",
            "min": 0,
            "description_tooltip": null,
            "_model_module": "@jupyter-widgets/controls",
            "layout": "IPY_MODEL_7882b684717648f0a8235dc6c88f83b4"
          }
        },
        "4f05341b8b40418582c79397c628b8cf": {
          "model_module": "@jupyter-widgets/controls",
          "model_name": "HTMLModel",
          "model_module_version": "1.5.0",
          "state": {
            "_view_name": "HTMLView",
            "style": "IPY_MODEL_449d4f22d526450ea91eb25351976ce6",
            "_dom_classes": [],
            "description": "",
            "_model_name": "HTMLModel",
            "placeholder": "​",
            "_view_module": "@jupyter-widgets/controls",
            "_model_module_version": "1.5.0",
            "value": " 446k/446k [00:00&lt;00:00, 674kB/s]",
            "_view_count": null,
            "_view_module_version": "1.5.0",
            "description_tooltip": null,
            "_model_module": "@jupyter-widgets/controls",
            "layout": "IPY_MODEL_80e5fae1a65d44048291263a46aaba51"
          }
        },
        "30d1692e2bdc4446b6a306d3092873f4": {
          "model_module": "@jupyter-widgets/controls",
          "model_name": "DescriptionStyleModel",
          "model_module_version": "1.5.0",
          "state": {
            "_view_name": "StyleView",
            "_model_name": "DescriptionStyleModel",
            "description_width": "",
            "_view_module": "@jupyter-widgets/base",
            "_model_module_version": "1.5.0",
            "_view_count": null,
            "_view_module_version": "1.2.0",
            "_model_module": "@jupyter-widgets/controls"
          }
        },
        "4b65beedefe546bc8e5ce4a37df0cfc9": {
          "model_module": "@jupyter-widgets/base",
          "model_name": "LayoutModel",
          "model_module_version": "1.2.0",
          "state": {
            "_view_name": "LayoutView",
            "grid_template_rows": null,
            "right": null,
            "justify_content": null,
            "_view_module": "@jupyter-widgets/base",
            "overflow": null,
            "_model_module_version": "1.2.0",
            "_view_count": null,
            "flex_flow": null,
            "width": null,
            "min_width": null,
            "border": null,
            "align_items": null,
            "bottom": null,
            "_model_module": "@jupyter-widgets/base",
            "top": null,
            "grid_column": null,
            "overflow_y": null,
            "overflow_x": null,
            "grid_auto_flow": null,
            "grid_area": null,
            "grid_template_columns": null,
            "flex": null,
            "_model_name": "LayoutModel",
            "justify_items": null,
            "grid_row": null,
            "max_height": null,
            "align_content": null,
            "visibility": null,
            "align_self": null,
            "height": null,
            "min_height": null,
            "padding": null,
            "grid_auto_rows": null,
            "grid_gap": null,
            "max_width": null,
            "order": null,
            "_view_module_version": "1.2.0",
            "grid_template_areas": null,
            "object_position": null,
            "object_fit": null,
            "grid_auto_columns": null,
            "margin": null,
            "display": null,
            "left": null
          }
        },
        "56fb491adf594e42b7e876255ac7e9db": {
          "model_module": "@jupyter-widgets/controls",
          "model_name": "ProgressStyleModel",
          "model_module_version": "1.5.0",
          "state": {
            "_view_name": "StyleView",
            "_model_name": "ProgressStyleModel",
            "description_width": "",
            "_view_module": "@jupyter-widgets/base",
            "_model_module_version": "1.5.0",
            "_view_count": null,
            "_view_module_version": "1.2.0",
            "bar_color": null,
            "_model_module": "@jupyter-widgets/controls"
          }
        },
        "7882b684717648f0a8235dc6c88f83b4": {
          "model_module": "@jupyter-widgets/base",
          "model_name": "LayoutModel",
          "model_module_version": "1.2.0",
          "state": {
            "_view_name": "LayoutView",
            "grid_template_rows": null,
            "right": null,
            "justify_content": null,
            "_view_module": "@jupyter-widgets/base",
            "overflow": null,
            "_model_module_version": "1.2.0",
            "_view_count": null,
            "flex_flow": null,
            "width": null,
            "min_width": null,
            "border": null,
            "align_items": null,
            "bottom": null,
            "_model_module": "@jupyter-widgets/base",
            "top": null,
            "grid_column": null,
            "overflow_y": null,
            "overflow_x": null,
            "grid_auto_flow": null,
            "grid_area": null,
            "grid_template_columns": null,
            "flex": null,
            "_model_name": "LayoutModel",
            "justify_items": null,
            "grid_row": null,
            "max_height": null,
            "align_content": null,
            "visibility": null,
            "align_self": null,
            "height": null,
            "min_height": null,
            "padding": null,
            "grid_auto_rows": null,
            "grid_gap": null,
            "max_width": null,
            "order": null,
            "_view_module_version": "1.2.0",
            "grid_template_areas": null,
            "object_position": null,
            "object_fit": null,
            "grid_auto_columns": null,
            "margin": null,
            "display": null,
            "left": null
          }
        },
        "449d4f22d526450ea91eb25351976ce6": {
          "model_module": "@jupyter-widgets/controls",
          "model_name": "DescriptionStyleModel",
          "model_module_version": "1.5.0",
          "state": {
            "_view_name": "StyleView",
            "_model_name": "DescriptionStyleModel",
            "description_width": "",
            "_view_module": "@jupyter-widgets/base",
            "_model_module_version": "1.5.0",
            "_view_count": null,
            "_view_module_version": "1.2.0",
            "_model_module": "@jupyter-widgets/controls"
          }
        },
        "80e5fae1a65d44048291263a46aaba51": {
          "model_module": "@jupyter-widgets/base",
          "model_name": "LayoutModel",
          "model_module_version": "1.2.0",
          "state": {
            "_view_name": "LayoutView",
            "grid_template_rows": null,
            "right": null,
            "justify_content": null,
            "_view_module": "@jupyter-widgets/base",
            "overflow": null,
            "_model_module_version": "1.2.0",
            "_view_count": null,
            "flex_flow": null,
            "width": null,
            "min_width": null,
            "border": null,
            "align_items": null,
            "bottom": null,
            "_model_module": "@jupyter-widgets/base",
            "top": null,
            "grid_column": null,
            "overflow_y": null,
            "overflow_x": null,
            "grid_auto_flow": null,
            "grid_area": null,
            "grid_template_columns": null,
            "flex": null,
            "_model_name": "LayoutModel",
            "justify_items": null,
            "grid_row": null,
            "max_height": null,
            "align_content": null,
            "visibility": null,
            "align_self": null,
            "height": null,
            "min_height": null,
            "padding": null,
            "grid_auto_rows": null,
            "grid_gap": null,
            "max_width": null,
            "order": null,
            "_view_module_version": "1.2.0",
            "grid_template_areas": null,
            "object_position": null,
            "object_fit": null,
            "grid_auto_columns": null,
            "margin": null,
            "display": null,
            "left": null
          }
        },
        "d3bb35025e6d4001b6385d2a5e2bf665": {
          "model_module": "@jupyter-widgets/controls",
          "model_name": "HBoxModel",
          "model_module_version": "1.5.0",
          "state": {
            "_view_name": "HBoxView",
            "_dom_classes": [],
            "_model_name": "HBoxModel",
            "_view_module": "@jupyter-widgets/controls",
            "_model_module_version": "1.5.0",
            "_view_count": null,
            "_view_module_version": "1.5.0",
            "box_style": "",
            "layout": "IPY_MODEL_9bfdf837810e4dc1941b4b122aa037ef",
            "_model_module": "@jupyter-widgets/controls",
            "children": [
              "IPY_MODEL_86ed8a5441854ff98ecc80585f3c899e",
              "IPY_MODEL_88b1b8f245d247d8b202b2c907198eba",
              "IPY_MODEL_c8a650185f9d4b6b801f0e7ed2fa3ffe"
            ]
          }
        },
        "9bfdf837810e4dc1941b4b122aa037ef": {
          "model_module": "@jupyter-widgets/base",
          "model_name": "LayoutModel",
          "model_module_version": "1.2.0",
          "state": {
            "_view_name": "LayoutView",
            "grid_template_rows": null,
            "right": null,
            "justify_content": null,
            "_view_module": "@jupyter-widgets/base",
            "overflow": null,
            "_model_module_version": "1.2.0",
            "_view_count": null,
            "flex_flow": null,
            "width": null,
            "min_width": null,
            "border": null,
            "align_items": null,
            "bottom": null,
            "_model_module": "@jupyter-widgets/base",
            "top": null,
            "grid_column": null,
            "overflow_y": null,
            "overflow_x": null,
            "grid_auto_flow": null,
            "grid_area": null,
            "grid_template_columns": null,
            "flex": null,
            "_model_name": "LayoutModel",
            "justify_items": null,
            "grid_row": null,
            "max_height": null,
            "align_content": null,
            "visibility": null,
            "align_self": null,
            "height": null,
            "min_height": null,
            "padding": null,
            "grid_auto_rows": null,
            "grid_gap": null,
            "max_width": null,
            "order": null,
            "_view_module_version": "1.2.0",
            "grid_template_areas": null,
            "object_position": null,
            "object_fit": null,
            "grid_auto_columns": null,
            "margin": null,
            "display": null,
            "left": null
          }
        },
        "86ed8a5441854ff98ecc80585f3c899e": {
          "model_module": "@jupyter-widgets/controls",
          "model_name": "HTMLModel",
          "model_module_version": "1.5.0",
          "state": {
            "_view_name": "HTMLView",
            "style": "IPY_MODEL_ce6cc673f05448f6b8068cf8f979d34b",
            "_dom_classes": [],
            "description": "",
            "_model_name": "HTMLModel",
            "placeholder": "​",
            "_view_module": "@jupyter-widgets/controls",
            "_model_module_version": "1.5.0",
            "value": "Downloading: 100%",
            "_view_count": null,
            "_view_module_version": "1.5.0",
            "description_tooltip": null,
            "_model_module": "@jupyter-widgets/controls",
            "layout": "IPY_MODEL_a09aabe9fd574783a262ecf599019fe6"
          }
        },
        "88b1b8f245d247d8b202b2c907198eba": {
          "model_module": "@jupyter-widgets/controls",
          "model_name": "FloatProgressModel",
          "model_module_version": "1.5.0",
          "state": {
            "_view_name": "ProgressView",
            "style": "IPY_MODEL_3d8fe52106534d0287c9fa4c948aa934",
            "_dom_classes": [],
            "description": "",
            "_model_name": "FloatProgressModel",
            "bar_style": "success",
            "max": 1355256,
            "_view_module": "@jupyter-widgets/controls",
            "_model_module_version": "1.5.0",
            "value": 1355256,
            "_view_count": null,
            "_view_module_version": "1.5.0",
            "orientation": "horizontal",
            "min": 0,
            "description_tooltip": null,
            "_model_module": "@jupyter-widgets/controls",
            "layout": "IPY_MODEL_1ecebd1bc94c46d2adda45405a59d841"
          }
        },
        "c8a650185f9d4b6b801f0e7ed2fa3ffe": {
          "model_module": "@jupyter-widgets/controls",
          "model_name": "HTMLModel",
          "model_module_version": "1.5.0",
          "state": {
            "_view_name": "HTMLView",
            "style": "IPY_MODEL_0387f69878ff48f5bcf51fbb342f4002",
            "_dom_classes": [],
            "description": "",
            "_model_name": "HTMLModel",
            "placeholder": "​",
            "_view_module": "@jupyter-widgets/controls",
            "_model_module_version": "1.5.0",
            "value": " 1.29M/1.29M [00:01&lt;00:00, 1.78MB/s]",
            "_view_count": null,
            "_view_module_version": "1.5.0",
            "description_tooltip": null,
            "_model_module": "@jupyter-widgets/controls",
            "layout": "IPY_MODEL_9a9a42a0aba846358019bd8845087428"
          }
        },
        "ce6cc673f05448f6b8068cf8f979d34b": {
          "model_module": "@jupyter-widgets/controls",
          "model_name": "DescriptionStyleModel",
          "model_module_version": "1.5.0",
          "state": {
            "_view_name": "StyleView",
            "_model_name": "DescriptionStyleModel",
            "description_width": "",
            "_view_module": "@jupyter-widgets/base",
            "_model_module_version": "1.5.0",
            "_view_count": null,
            "_view_module_version": "1.2.0",
            "_model_module": "@jupyter-widgets/controls"
          }
        },
        "a09aabe9fd574783a262ecf599019fe6": {
          "model_module": "@jupyter-widgets/base",
          "model_name": "LayoutModel",
          "model_module_version": "1.2.0",
          "state": {
            "_view_name": "LayoutView",
            "grid_template_rows": null,
            "right": null,
            "justify_content": null,
            "_view_module": "@jupyter-widgets/base",
            "overflow": null,
            "_model_module_version": "1.2.0",
            "_view_count": null,
            "flex_flow": null,
            "width": null,
            "min_width": null,
            "border": null,
            "align_items": null,
            "bottom": null,
            "_model_module": "@jupyter-widgets/base",
            "top": null,
            "grid_column": null,
            "overflow_y": null,
            "overflow_x": null,
            "grid_auto_flow": null,
            "grid_area": null,
            "grid_template_columns": null,
            "flex": null,
            "_model_name": "LayoutModel",
            "justify_items": null,
            "grid_row": null,
            "max_height": null,
            "align_content": null,
            "visibility": null,
            "align_self": null,
            "height": null,
            "min_height": null,
            "padding": null,
            "grid_auto_rows": null,
            "grid_gap": null,
            "max_width": null,
            "order": null,
            "_view_module_version": "1.2.0",
            "grid_template_areas": null,
            "object_position": null,
            "object_fit": null,
            "grid_auto_columns": null,
            "margin": null,
            "display": null,
            "left": null
          }
        },
        "3d8fe52106534d0287c9fa4c948aa934": {
          "model_module": "@jupyter-widgets/controls",
          "model_name": "ProgressStyleModel",
          "model_module_version": "1.5.0",
          "state": {
            "_view_name": "StyleView",
            "_model_name": "ProgressStyleModel",
            "description_width": "",
            "_view_module": "@jupyter-widgets/base",
            "_model_module_version": "1.5.0",
            "_view_count": null,
            "_view_module_version": "1.2.0",
            "bar_color": null,
            "_model_module": "@jupyter-widgets/controls"
          }
        },
        "1ecebd1bc94c46d2adda45405a59d841": {
          "model_module": "@jupyter-widgets/base",
          "model_name": "LayoutModel",
          "model_module_version": "1.2.0",
          "state": {
            "_view_name": "LayoutView",
            "grid_template_rows": null,
            "right": null,
            "justify_content": null,
            "_view_module": "@jupyter-widgets/base",
            "overflow": null,
            "_model_module_version": "1.2.0",
            "_view_count": null,
            "flex_flow": null,
            "width": null,
            "min_width": null,
            "border": null,
            "align_items": null,
            "bottom": null,
            "_model_module": "@jupyter-widgets/base",
            "top": null,
            "grid_column": null,
            "overflow_y": null,
            "overflow_x": null,
            "grid_auto_flow": null,
            "grid_area": null,
            "grid_template_columns": null,
            "flex": null,
            "_model_name": "LayoutModel",
            "justify_items": null,
            "grid_row": null,
            "max_height": null,
            "align_content": null,
            "visibility": null,
            "align_self": null,
            "height": null,
            "min_height": null,
            "padding": null,
            "grid_auto_rows": null,
            "grid_gap": null,
            "max_width": null,
            "order": null,
            "_view_module_version": "1.2.0",
            "grid_template_areas": null,
            "object_position": null,
            "object_fit": null,
            "grid_auto_columns": null,
            "margin": null,
            "display": null,
            "left": null
          }
        },
        "0387f69878ff48f5bcf51fbb342f4002": {
          "model_module": "@jupyter-widgets/controls",
          "model_name": "DescriptionStyleModel",
          "model_module_version": "1.5.0",
          "state": {
            "_view_name": "StyleView",
            "_model_name": "DescriptionStyleModel",
            "description_width": "",
            "_view_module": "@jupyter-widgets/base",
            "_model_module_version": "1.5.0",
            "_view_count": null,
            "_view_module_version": "1.2.0",
            "_model_module": "@jupyter-widgets/controls"
          }
        },
        "9a9a42a0aba846358019bd8845087428": {
          "model_module": "@jupyter-widgets/base",
          "model_name": "LayoutModel",
          "model_module_version": "1.2.0",
          "state": {
            "_view_name": "LayoutView",
            "grid_template_rows": null,
            "right": null,
            "justify_content": null,
            "_view_module": "@jupyter-widgets/base",
            "overflow": null,
            "_model_module_version": "1.2.0",
            "_view_count": null,
            "flex_flow": null,
            "width": null,
            "min_width": null,
            "border": null,
            "align_items": null,
            "bottom": null,
            "_model_module": "@jupyter-widgets/base",
            "top": null,
            "grid_column": null,
            "overflow_y": null,
            "overflow_x": null,
            "grid_auto_flow": null,
            "grid_area": null,
            "grid_template_columns": null,
            "flex": null,
            "_model_name": "LayoutModel",
            "justify_items": null,
            "grid_row": null,
            "max_height": null,
            "align_content": null,
            "visibility": null,
            "align_self": null,
            "height": null,
            "min_height": null,
            "padding": null,
            "grid_auto_rows": null,
            "grid_gap": null,
            "max_width": null,
            "order": null,
            "_view_module_version": "1.2.0",
            "grid_template_areas": null,
            "object_position": null,
            "object_fit": null,
            "grid_auto_columns": null,
            "margin": null,
            "display": null,
            "left": null
          }
        }
      }
    }
  },
  "cells": [
    {
      "cell_type": "code",
      "execution_count": 2,
      "metadata": {
        "colab": {
          "base_uri": "https://localhost:8080/"
        },
        "id": "Fj_YMFFCZFl0",
        "outputId": "af53ef1c-2edf-4f43-fd77-de60a2031d8a"
      },
      "outputs": [
        {
          "output_type": "stream",
          "name": "stdout",
          "text": [
            "\u001b[K     |████████████████████████████████| 225 kB 4.2 MB/s \n",
            "\u001b[K     |████████████████████████████████| 280 kB 63.1 MB/s \n",
            "\u001b[K     |████████████████████████████████| 280 kB 54.7 MB/s \n",
            "\u001b[K     |████████████████████████████████| 280 kB 62.0 MB/s \n",
            "\u001b[K     |████████████████████████████████| 280 kB 61.0 MB/s \n",
            "\u001b[K     |████████████████████████████████| 279 kB 61.9 MB/s \n",
            "\u001b[K     |████████████████████████████████| 279 kB 63.6 MB/s \n",
            "\u001b[K     |████████████████████████████████| 272 kB 53.1 MB/s \n",
            "\u001b[K     |████████████████████████████████| 272 kB 34.6 MB/s \n",
            "\u001b[K     |████████████████████████████████| 272 kB 48.9 MB/s \n",
            "\u001b[K     |████████████████████████████████| 270 kB 52.9 MB/s \n",
            "\u001b[K     |████████████████████████████████| 270 kB 17.3 MB/s \n",
            "\u001b[K     |████████████████████████████████| 270 kB 46.3 MB/s \n",
            "\u001b[K     |████████████████████████████████| 248 kB 64.1 MB/s \n",
            "\u001b[K     |████████████████████████████████| 247 kB 54.3 MB/s \n",
            "\u001b[K     |████████████████████████████████| 246 kB 63.5 MB/s \n",
            "\u001b[K     |████████████████████████████████| 247 kB 62.4 MB/s \n",
            "\u001b[K     |████████████████████████████████| 235 kB 52.3 MB/s \n",
            "\u001b[K     |████████████████████████████████| 235 kB 53.6 MB/s \n",
            "\u001b[K     |████████████████████████████████| 235 kB 52.0 MB/s \n",
            "\u001b[K     |████████████████████████████████| 234 kB 51.7 MB/s \n",
            "\u001b[K     |████████████████████████████████| 233 kB 61.5 MB/s \n",
            "\u001b[K     |████████████████████████████████| 233 kB 58.6 MB/s \n",
            "\u001b[K     |████████████████████████████████| 227 kB 45.9 MB/s \n",
            "\u001b[K     |████████████████████████████████| 227 kB 66.0 MB/s \n",
            "\u001b[K     |████████████████████████████████| 227 kB 52.9 MB/s \n",
            "\u001b[K     |████████████████████████████████| 226 kB 49.0 MB/s \n",
            "\u001b[K     |████████████████████████████████| 226 kB 46.3 MB/s \n",
            "\u001b[K     |████████████████████████████████| 224 kB 55.5 MB/s \n",
            "\u001b[K     |████████████████████████████████| 224 kB 57.0 MB/s \n",
            "\u001b[K     |████████████████████████████████| 223 kB 65.8 MB/s \n",
            "\u001b[K     |████████████████████████████████| 223 kB 67.9 MB/s \n",
            "\u001b[K     |████████████████████████████████| 221 kB 36.4 MB/s \n",
            "\u001b[K     |████████████████████████████████| 221 kB 44.2 MB/s \n",
            "\u001b[?25h  Building wheel for torch-lucent (setup.py) ... \u001b[?25l\u001b[?25hdone\n",
            "\u001b[K     |████████████████████████████████| 3.4 MB 4.1 MB/s \n",
            "\u001b[K     |████████████████████████████████| 895 kB 52.6 MB/s \n",
            "\u001b[K     |████████████████████████████████| 596 kB 63.7 MB/s \n",
            "\u001b[K     |████████████████████████████████| 61 kB 615 kB/s \n",
            "\u001b[K     |████████████████████████████████| 3.3 MB 52.5 MB/s \n",
            "\u001b[?25h"
          ]
        }
      ],
      "source": [
        "!pip install --quiet git+https://github.com/greentfrapp/lucent.git\n",
        "!pip install --quiet transformers"
      ]
    },
    {
      "cell_type": "code",
      "source": [
        "import torch\n",
        "\n",
        "from lucent.optvis import render, param, transform, objectives\n",
        "from lucent.modelzoo.util import get_model_layers\n",
        "import numpy as np\n",
        "from tqdm import tqdm\n",
        "from transformers import AutoTokenizer\n",
        "from transformers import GPT2LMHeadModel\n",
        "import matplotlib.pyplot as plt\n",
        "\n",
        "\n",
        "import torchsummary\n",
        "\n",
        "device = torch.device(\"cuda:0\" if torch.cuda.is_available() else \"cpu\")"
      ],
      "metadata": {
        "id": "lZUsVnPfZKX9"
      },
      "execution_count": 3,
      "outputs": []
    },
    {
      "cell_type": "code",
      "source": [
        "from google.colab import drive\n",
        "drive.mount('/content/drive')"
      ],
      "metadata": {
        "colab": {
          "base_uri": "https://localhost:8080/"
        },
        "id": "a8rbCmCXhVWg",
        "outputId": "318dae32-86b9-4f14-9738-bee823b15b4e"
      },
      "execution_count": 4,
      "outputs": [
        {
          "output_type": "stream",
          "name": "stdout",
          "text": [
            "Mounted at /content/drive\n"
          ]
        }
      ]
    },
    {
      "cell_type": "code",
      "source": [
        "#set to relevant model location\n",
        "binpath = \"/content/drive/MyDrive/AM 205 - Group Project/tune/model_unique_rev_best/\"\n",
        "model = GPT2LMHeadModel.from_pretrained(binpath)\n",
        "tok = AutoTokenizer.from_pretrained('gpt2')\n",
        "tok.add_special_tokens({'pad_token': '<|endoftext|>'})"
      ],
      "metadata": {
        "id": "u7H1lsuTZSby",
        "colab": {
          "base_uri": "https://localhost:8080/",
          "height": 162,
          "referenced_widgets": [
            "ac7e8d5f4e804d4f848340ab5045da99",
            "2e8aab1a525f4957a8f9a97e8d8618b0",
            "3ae233d550874d39bfc8a6bd14cca9c9",
            "64f303218cde44c9b59403ff1709f699",
            "2dd6ea209cd04ed29b795b5e3a1d73e2",
            "4f534793476144f3859ecdb812a9b30a",
            "6fb37b6b666a4f81a1f6c8393ad668ca",
            "e33a5e00281c4917bfcc9819ec83e8ec",
            "802be2c4be094ece8c9c3db6fc63c1e8",
            "856a6abc627341ebbfb8e3c16898193c",
            "d51b601a3e294b32ade386187a974619",
            "c8b6316f56fa468f8a7a6c8ef5a947ec",
            "736f3ec2912e4bcc8988f8502f3d14a2",
            "ea2881d2ede44219908673696efefe92",
            "4d14906fced845d588bc8053ad0ef24f",
            "d8228384300d4cbfb011145fb884d240",
            "09850612e17d4f179ebbb15adf093b4f",
            "fd0d5ef7776a48ca8083cb1061ae911d",
            "8d4684f3f93d4282a2fb44d4b6a6a107",
            "a43bd816723949c3aa6203f8f42d2e7d",
            "dd156b1bcf49470d8175d345b2b8d17d",
            "2678b293719a4a8fbee826de697dfd3e",
            "eaf3ca2a6bae492b86265abb9ae192e7",
            "098cb9fb1e2f4b72906369474fd43ef8",
            "8dfb5ebe45944c2aa066708f3fba0f4c",
            "c32f9dd0c5704dc3a773dfddedb3e1b4",
            "4f05341b8b40418582c79397c628b8cf",
            "30d1692e2bdc4446b6a306d3092873f4",
            "4b65beedefe546bc8e5ce4a37df0cfc9",
            "56fb491adf594e42b7e876255ac7e9db",
            "7882b684717648f0a8235dc6c88f83b4",
            "449d4f22d526450ea91eb25351976ce6",
            "80e5fae1a65d44048291263a46aaba51",
            "d3bb35025e6d4001b6385d2a5e2bf665",
            "9bfdf837810e4dc1941b4b122aa037ef",
            "86ed8a5441854ff98ecc80585f3c899e",
            "88b1b8f245d247d8b202b2c907198eba",
            "c8a650185f9d4b6b801f0e7ed2fa3ffe",
            "ce6cc673f05448f6b8068cf8f979d34b",
            "a09aabe9fd574783a262ecf599019fe6",
            "3d8fe52106534d0287c9fa4c948aa934",
            "1ecebd1bc94c46d2adda45405a59d841",
            "0387f69878ff48f5bcf51fbb342f4002",
            "9a9a42a0aba846358019bd8845087428"
          ]
        },
        "outputId": "e2ce8a14-136a-432f-b9ba-b3fabc168032"
      },
      "execution_count": 5,
      "outputs": [
        {
          "output_type": "display_data",
          "data": {
            "application/vnd.jupyter.widget-view+json": {
              "model_id": "ac7e8d5f4e804d4f848340ab5045da99",
              "version_minor": 0,
              "version_major": 2
            },
            "text/plain": [
              "Downloading:   0%|          | 0.00/665 [00:00<?, ?B/s]"
            ]
          },
          "metadata": {}
        },
        {
          "output_type": "display_data",
          "data": {
            "application/vnd.jupyter.widget-view+json": {
              "model_id": "c8b6316f56fa468f8a7a6c8ef5a947ec",
              "version_minor": 0,
              "version_major": 2
            },
            "text/plain": [
              "Downloading:   0%|          | 0.00/0.99M [00:00<?, ?B/s]"
            ]
          },
          "metadata": {}
        },
        {
          "output_type": "display_data",
          "data": {
            "application/vnd.jupyter.widget-view+json": {
              "model_id": "eaf3ca2a6bae492b86265abb9ae192e7",
              "version_minor": 0,
              "version_major": 2
            },
            "text/plain": [
              "Downloading:   0%|          | 0.00/446k [00:00<?, ?B/s]"
            ]
          },
          "metadata": {}
        },
        {
          "output_type": "display_data",
          "data": {
            "application/vnd.jupyter.widget-view+json": {
              "model_id": "d3bb35025e6d4001b6385d2a5e2bf665",
              "version_minor": 0,
              "version_major": 2
            },
            "text/plain": [
              "Downloading:   0%|          | 0.00/1.29M [00:00<?, ?B/s]"
            ]
          },
          "metadata": {}
        },
        {
          "output_type": "execute_result",
          "data": {
            "text/plain": [
              "0"
            ]
          },
          "metadata": {},
          "execution_count": 5
        }
      ]
    },
    {
      "cell_type": "code",
      "source": [
        "_ = model.to(device).eval()"
      ],
      "metadata": {
        "id": "ZJSk7ytMh_u0"
      },
      "execution_count": 6,
      "outputs": []
    },
    {
      "cell_type": "code",
      "source": [
        "get_model_layers(model)[:18]"
      ],
      "metadata": {
        "id": "8tX5pxCDgdmd",
        "colab": {
          "base_uri": "https://localhost:8080/"
        },
        "outputId": "e0e17c1f-e48e-434a-f3d9-af620beffa39"
      },
      "execution_count": 7,
      "outputs": [
        {
          "output_type": "execute_result",
          "data": {
            "text/plain": [
              "['transformer',\n",
              " 'transformer_wte',\n",
              " 'transformer_wpe',\n",
              " 'transformer_drop',\n",
              " 'transformer_h',\n",
              " 'transformer_h_0',\n",
              " 'transformer_h_0_ln_1',\n",
              " 'transformer_h_0_attn',\n",
              " 'transformer_h_0_attn_c_attn',\n",
              " 'transformer_h_0_attn_c_proj',\n",
              " 'transformer_h_0_attn_attn_dropout',\n",
              " 'transformer_h_0_attn_resid_dropout',\n",
              " 'transformer_h_0_ln_2',\n",
              " 'transformer_h_0_mlp',\n",
              " 'transformer_h_0_mlp_c_fc',\n",
              " 'transformer_h_0_mlp_c_proj',\n",
              " 'transformer_h_0_mlp_dropout',\n",
              " 'transformer_h_1']"
            ]
          },
          "metadata": {},
          "execution_count": 7
        }
      ]
    },
    {
      "cell_type": "code",
      "source": [
        "tok.encode('the')"
      ],
      "metadata": {
        "colab": {
          "base_uri": "https://localhost:8080/"
        },
        "id": "ywiNxCYzKy0g",
        "outputId": "a21cbce4-eea1-4c51-ecfd-2f0e4a6d7b08"
      },
      "execution_count": 8,
      "outputs": [
        {
          "output_type": "execute_result",
          "data": {
            "text/plain": [
              "[1169]"
            ]
          },
          "metadata": {},
          "execution_count": 8
        }
      ]
    },
    {
      "cell_type": "code",
      "source": [
        "gpt_transform = lambda x: x.to(torch.int)\n",
        "\n",
        "numtokens = 50256\n",
        "\n",
        "def gpt_inrandom(L=50):\n",
        "  batch = 1\n",
        "  ch = 1\n",
        "  h = 1\n",
        "  w = L\n",
        "  out = torch.tensor(np.random.uniform(0,numtokens, size = (batch, ch, h, w))).to(device).requires_grad_(True)\n",
        "  return [out], lambda: out\n",
        "\n",
        "def gpt_in_the(L = 50):\n",
        "  batch = 1\n",
        "  ch = 1\n",
        "  h = 1\n",
        "  w = L\n",
        "  out = torch.tensor(np.ones(shape = (batch, ch, h, w))).to(device).requires_grad_(True) * 1169\n",
        "  return [out], lambda: out\n",
        "\n",
        "\n",
        "params, input_f = gpt_in_the(5)\n",
        "print(params)\n",
        "\n",
        "print('\\n' + tok.decode(gpt_transform(params[0][0][0][0])) + '\\n' )\n",
        "# gpt_inrandom(50)\n",
        "\n",
        "hs = model(gpt_transform(params[0]), output_hidden_states=True).hidden_states\n",
        "\n",
        "# print(len(hs))\n",
        "\n",
        "for r in hs:\n",
        "  print(r.size())"
      ],
      "metadata": {
        "colab": {
          "base_uri": "https://localhost:8080/"
        },
        "id": "axOac4pylJU7",
        "outputId": "67687689-6432-4a87-c052-a6637051d0be"
      },
      "execution_count": 9,
      "outputs": [
        {
          "output_type": "stream",
          "name": "stdout",
          "text": [
            "[tensor([[[[1169., 1169., 1169., 1169., 1169.]]]], device='cuda:0',\n",
            "       dtype=torch.float64, grad_fn=<MulBackward0>)]\n",
            "\n",
            "thethethethethe\n",
            "\n",
            "torch.Size([1, 5, 768])\n",
            "torch.Size([1, 5, 768])\n",
            "torch.Size([1, 5, 768])\n",
            "torch.Size([1, 5, 768])\n",
            "torch.Size([1, 5, 768])\n",
            "torch.Size([1, 5, 768])\n",
            "torch.Size([1, 5, 768])\n",
            "torch.Size([1, 5, 768])\n",
            "torch.Size([1, 5, 768])\n",
            "torch.Size([1, 5, 768])\n",
            "torch.Size([1, 5, 768])\n",
            "torch.Size([1, 5, 768])\n",
            "torch.Size([1, 1, 1, 5, 768])\n"
          ]
        }
      ]
    },
    {
      "cell_type": "code",
      "source": [
        "wtembed = model.transformer.wte.weight\n",
        "\n",
        "def obj(p, l, n):\n",
        "  hidden = model(gpt_transform(p), output_hidden_states=True).hidden_states[l]\n",
        "  # print(len(hidden.size()))\n",
        "  # print(hidden.size())\n",
        "\n",
        "  if len(hidden.size()) > 3:\n",
        "    hidden = hidden[0][0]\n",
        "\n",
        "  if len(hidden.size()) < 3:\n",
        "    out = hidden[:,n].mean()\n",
        "  else:\n",
        "    out = hidden[0][:,n].mean()\n",
        "  return out"
      ],
      "metadata": {
        "id": "mowaHjTT2iHr"
      },
      "execution_count": 10,
      "outputs": []
    },
    {
      "cell_type": "code",
      "source": [
        "obj(params[0], 12, 138)"
      ],
      "metadata": {
        "colab": {
          "base_uri": "https://localhost:8080/"
        },
        "id": "s_ti7U2_jz2R",
        "outputId": "881d919f-68f2-4d74-95ff-c04ef204ce19"
      },
      "execution_count": 11,
      "outputs": [
        {
          "output_type": "execute_result",
          "data": {
            "text/plain": [
              "tensor(0.4656, device='cuda:0', grad_fn=<MeanBackward0>)"
            ]
          },
          "metadata": {},
          "execution_count": 11
        }
      ]
    },
    {
      "cell_type": "code",
      "source": [
        "#note: modify as necessary\n",
        "save_loc = '/content/drive/MyDrive/AM 205 - Group Project/FeatureVis/'"
      ],
      "metadata": {
        "id": "cpPC3C7roZra"
      },
      "execution_count": 356,
      "outputs": []
    },
    {
      "cell_type": "code",
      "source": [
        "iterations = 10\n",
        "indices = 512\n",
        "\n",
        "OLs = [11,]\n",
        "ONs = np.ones(len(hs)-1)\n",
        "\n",
        "for i in range(len(OLs)):\n",
        "  optlayer = OLs[i]\n",
        "  # optneuron = ONs[i]\n",
        "  optneuron = int(np.random.uniform(768))\n",
        "\n",
        "  print(f'Optimizing: Layer {optlayer}/12, neuron {optneuron+1}/768')\n",
        "\n",
        "  # print(params)\n",
        "\n",
        "  maxparams = params[0][0,0,0].clone()\n",
        "  minparams = params[0][0,0,0].clone()\n",
        "\n",
        "\n",
        "  # if len(maxparams.size()) > 3:\n",
        "  #   maxparams = maxparams[0][0]\n",
        "  #   minparams = minparams[0][0]\n",
        "\n",
        "  # print(maxparams.size())\n",
        "\n",
        "  alters = np.zeros(numtokens)\n",
        "  negalters = np.zeros(numtokens)\n",
        "\n",
        "  for t in tqdm(np.arange(numtokens)):\n",
        "    # for t in tqdm(np.arange(numtokens), position=0):\n",
        "      for w in range(len(maxparams)):\n",
        "        pprime = maxparams.detach().clone()\n",
        "        pprime[w] = t\n",
        "        # print(pprime)\n",
        "        loss = obj(pprime, optlayer, optneuron)\n",
        "        if loss < alters[t]:\n",
        "          alters[t] = loss\n",
        "        elif loss > negalters[t]:\n",
        "          negalters[t] = loss\n",
        "\n",
        "  maxalters = np.argsort(alters)[:indices]\n",
        "  minalters = np.argsort(negalters)[-indices:]\n",
        "\n",
        "  maxalters = maxalters[alters[maxalters] < 0]\n",
        "  minalters = minalters[negalters[minalters] > 0]\n",
        "\n",
        "  print(len(maxalters), len(minalters))\n",
        "\n",
        "  print(tok.decode(maxalters[:10]))\n",
        "  print(tok.decode(minalters[:10]))\n",
        "  # print(negalters[minalters])\n",
        "\n",
        "  run_id = str(optlayer) + '_' + str(optneuron)\n",
        "  np.save(save_loc + 'max_' + run_id, arr = maxalters)\n",
        "  np.save(save_loc + 'min_' + run_id, arr = minalters)"
      ],
      "metadata": {
        "colab": {
          "base_uri": "https://localhost:8080/"
        },
        "id": "iGlmlUWNA0OV",
        "outputId": "eea18696-b161-4939-806f-7d8f1c8d8627"
      },
      "execution_count": 358,
      "outputs": [
        {
          "output_type": "stream",
          "name": "stdout",
          "text": [
            "Optimizing: Layer 11/12, neuron 78/768\n"
          ]
        },
        {
          "output_type": "stream",
          "name": "stderr",
          "text": [
            "100%|██████████| 50256/50256 [38:23<00:00, 21.82it/s]\n"
          ]
        },
        {
          "output_type": "stream",
          "name": "stdout",
          "text": [
            "512 512\n",
            "Tr H TrsprHL Sp PSp h\n",
            " shortcuts escalated Everest Vehicles dirt damages ailments climb guards Flowers\n"
          ]
        }
      ]
    },
    {
      "cell_type": "code",
      "source": [
        "torch.cuda.get_device_name(0)\n"
      ],
      "metadata": {
        "colab": {
          "base_uri": "https://localhost:8080/",
          "height": 35
        },
        "id": "tUWxLurD6Egn",
        "outputId": "1620a9f1-c064-4661-f5e2-23b854c1fbe3"
      },
      "execution_count": 104,
      "outputs": [
        {
          "output_type": "execute_result",
          "data": {
            "application/vnd.google.colaboratory.intrinsic+json": {
              "type": "string"
            },
            "text/plain": [
              "'Tesla P100-PCIE-16GB'"
            ]
          },
          "metadata": {},
          "execution_count": 104
        }
      ]
    },
    {
      "cell_type": "code",
      "source": [
        "tok.decode([10000,10001])"
      ],
      "metadata": {
        "colab": {
          "base_uri": "https://localhost:8080/",
          "height": 35
        },
        "id": "oiIl60baz_PO",
        "outputId": "2bf26bd7-1e66-40ae-c0dd-49aad4f5f514"
      },
      "execution_count": 13,
      "outputs": [
        {
          "output_type": "execute_result",
          "data": {
            "application/vnd.google.colaboratory.intrinsic+json": {
              "type": "string"
            },
            "text/plain": [
              "' pocket Inv'"
            ]
          },
          "metadata": {},
          "execution_count": 13
        }
      ]
    },
    {
      "cell_type": "code",
      "source": [
        "optlayer = 11\n",
        "optneuron = 692\n",
        "\n",
        "#note: the below strings should point to the location specified above to save search outputs\n",
        "run_id = str(optlayer) + '_' + str(optneuron)\n",
        "maxalters = torch.as_tensor(np.load(save_loc + 'max_' + run_id + '.npy')).to(device)\n",
        "minalters = torch.as_tensor(np.load(save_loc + 'min_' + run_id + '.npy')).to(device)\n",
        "\n",
        "print(f'Loaded: Layer {optlayer}/12, neuron {optneuron+1}/768')\n",
        "\n",
        "print(len(maxalters), len(minalters))\n",
        "print(tok.decode(maxalters[:10]))\n",
        "print(tok.decode(minalters[:10]))"
      ],
      "metadata": {
        "colab": {
          "base_uri": "https://localhost:8080/"
        },
        "id": "yTF86PmMWikf",
        "outputId": "618e4e1d-43fb-40f4-8536-6b90eb2398b3"
      },
      "execution_count": 357,
      "outputs": [
        {
          "output_type": "stream",
          "name": "stdout",
          "text": [
            "Loaded: Layer 11/12, neuron 693/768\n",
            "512 512\n",
            "BSDArcadeBrewLinuxBurnStayplatform Fuck fuckedReloaded\n",
            " Ru Sut grim year vit coined Ray Teoly Cer\n"
          ]
        }
      ]
    },
    {
      "cell_type": "code",
      "source": [
        "print(f\"\\\\hline {optlayer}&{optneuron + 1}&\", end = \"\")\n",
        "for n in range(4):\n",
        "  tm = maxalters[n].item()\n",
        "  tn = minalters[n].item()\n",
        "  print(f'[{tm}]: ``{tok.decode(tm)}\";&[{tn}]: ``{tok.decode(tn)}\"',end='\\\\\\\\&& ')"
      ],
      "metadata": {
        "colab": {
          "base_uri": "https://localhost:8080/"
        },
        "id": "TdpmU1l0dbE4",
        "outputId": "add1d08c-2078-4784-af6d-f82de8693d8b"
      },
      "execution_count": 151,
      "outputs": [
        {
          "output_type": "stream",
          "name": "stdout",
          "text": [
            "\\hline 11&693&[21800]: ``BSD\";&[11667]: `` Ru\"\\\\&& [43763]: ``Arcade\";&[45220]: `` Sut\"\\\\&& [44029]: ``Brew\";&[18288]: `` grim\"\\\\&& [19314]: ``Linux\";&[614]: `` year\"\\\\&& "
          ]
        }
      ]
    },
    {
      "cell_type": "code",
      "source": [
        "tok.decode(43763)"
      ],
      "metadata": {
        "colab": {
          "base_uri": "https://localhost:8080/",
          "height": 35
        },
        "id": "ZN6a3NppZxmU",
        "outputId": "b3f3714d-e80a-45b5-8b2f-fdf75b9a5e86"
      },
      "execution_count": 152,
      "outputs": [
        {
          "output_type": "execute_result",
          "data": {
            "application/vnd.google.colaboratory.intrinsic+json": {
              "type": "string"
            },
            "text/plain": [
              "'Arcade'"
            ]
          },
          "metadata": {},
          "execution_count": 152
        }
      ]
    },
    {
      "cell_type": "code",
      "source": [
        "maxparams = params[0][0,0,0].clone()\n",
        "minparams = params[0][0,0,0].clone()"
      ],
      "metadata": {
        "id": "2csDVdeOO4ch"
      },
      "execution_count": 153,
      "outputs": []
    },
    {
      "cell_type": "code",
      "source": [
        "best = obj(params[0][0,0,0], optlayer, optneuron)\n",
        "for i in (range(iterations)):\n",
        "  print(f'Pass {i+1}: {best}')\n",
        "  oldbest = best\n",
        "  for t in tqdm(maxalters):\n",
        "  # for t in tqdm(np.arange(numtokens), position=0):\n",
        "    for w in range(len(maxparams)):\n",
        "      pprime = maxparams.detach().clone()\n",
        "      pprime[w] = t\n",
        "      loss = obj(pprime, optlayer, optneuron)\n",
        "      if loss < best:\n",
        "        best = loss\n",
        "        maxparams = pprime.detach().clone()\n",
        "  if best == oldbest:\n",
        "    print(f'\\nMax Activation: {tok.decode(maxparams.to(torch.int))}, Activation = {-best} ')\n",
        "    break"
      ],
      "metadata": {
        "colab": {
          "base_uri": "https://localhost:8080/"
        },
        "id": "cEgcQsXINQSP",
        "outputId": "7e0c1906-91b7-4072-a9d4-223e3b3a7b47"
      },
      "execution_count": 154,
      "outputs": [
        {
          "output_type": "stream",
          "name": "stdout",
          "text": [
            "Pass 1: 3.20208477973938\n"
          ]
        },
        {
          "output_type": "stream",
          "name": "stderr",
          "text": [
            "100%|██████████| 512/512 [00:23<00:00, 22.01it/s]\n"
          ]
        },
        {
          "output_type": "stream",
          "name": "stdout",
          "text": [
            "Pass 2: -13.528189659118652\n"
          ]
        },
        {
          "output_type": "stream",
          "name": "stderr",
          "text": [
            "100%|██████████| 512/512 [00:23<00:00, 22.09it/s]\n"
          ]
        },
        {
          "output_type": "stream",
          "name": "stdout",
          "text": [
            "Pass 3: -14.855822563171387\n"
          ]
        },
        {
          "output_type": "stream",
          "name": "stderr",
          "text": [
            "100%|██████████| 512/512 [00:23<00:00, 22.00it/s]"
          ]
        },
        {
          "output_type": "stream",
          "name": "stdout",
          "text": [
            "\n",
            "Max Activation: Arcade forgivingWebsite guiltyPlatform, Activation = 14.855822563171387 \n"
          ]
        },
        {
          "output_type": "stream",
          "name": "stderr",
          "text": [
            "\n"
          ]
        }
      ]
    },
    {
      "cell_type": "code",
      "source": [
        "print('\\n' + tok.decode(gpt_transform(params[0][0][0][0])) + '\\n' )\n",
        "print(tok.decode(maxparams.to(torch.int)))\n",
        "print(maxparams)"
      ],
      "metadata": {
        "colab": {
          "base_uri": "https://localhost:8080/"
        },
        "id": "igMc_W8sBceZ",
        "outputId": "c1f1f007-5821-4198-ce0b-5b1e166fba54"
      },
      "execution_count": 155,
      "outputs": [
        {
          "output_type": "stream",
          "name": "stdout",
          "text": [
            "\n",
            "thethethethethe\n",
            "\n",
            "Arcade forgivingWebsite guiltyPlatform\n",
            "tensor([43763., 43486., 33420.,  6717., 37148.], device='cuda:0',\n",
            "       dtype=torch.float64)\n"
          ]
        }
      ]
    },
    {
      "cell_type": "code",
      "source": [
        "tok.encode('place spot')"
      ],
      "metadata": {
        "colab": {
          "base_uri": "https://localhost:8080/"
        },
        "id": "O89jxX0oWkGW",
        "outputId": "576a0723-bdd0-4288-b7ee-7b2804f5b40e"
      },
      "execution_count": 156,
      "outputs": [
        {
          "output_type": "execute_result",
          "data": {
            "text/plain": [
              "[5372, 4136]"
            ]
          },
          "metadata": {},
          "execution_count": 156
        }
      ]
    },
    {
      "cell_type": "code",
      "source": [
        "obj(torch.as_tensor(tok.encode(' Dimensions Horizons addressing Horizons address')).to(device), optlayer, optneuron)"
      ],
      "metadata": {
        "colab": {
          "base_uri": "https://localhost:8080/"
        },
        "id": "-6Syl0myPMlk",
        "outputId": "a1622821-972b-4a77-c6e9-a8b6328e14b5"
      },
      "execution_count": 157,
      "outputs": [
        {
          "output_type": "execute_result",
          "data": {
            "text/plain": [
              "tensor(5.9078, device='cuda:0', grad_fn=<MeanBackward0>)"
            ]
          },
          "metadata": {},
          "execution_count": 157
        }
      ]
    },
    {
      "cell_type": "code",
      "source": [
        "print(obj(maxparams, optlayer, optneuron))\n",
        "print(obj(torch.as_tensor([2, 2, 2, 0, 0,]).to(device), optlayer, optneuron))"
      ],
      "metadata": {
        "colab": {
          "base_uri": "https://localhost:8080/"
        },
        "id": "9BItBavocz2L",
        "outputId": "602e70db-e780-410d-b16a-7378854a0e50"
      },
      "execution_count": 158,
      "outputs": [
        {
          "output_type": "stream",
          "name": "stdout",
          "text": [
            "tensor(-14.8558, device='cuda:0', grad_fn=<MeanBackward0>)\n",
            "tensor(1.3423, device='cuda:0', grad_fn=<MeanBackward0>)\n"
          ]
        }
      ]
    },
    {
      "cell_type": "code",
      "source": [
        "best = obj(params[0][0,0,0], optlayer, optneuron)\n",
        "for i in (range(iterations)):\n",
        "  print(f'Pass {i+1}: {best}')\n",
        "  oldbest = best\n",
        "  for t in tqdm(minalters):\n",
        "  # for t in tqdm(np.arange(numtokens), position=0):\n",
        "    for w in range(len(minparams)):\n",
        "      pprime = minparams.detach().clone()\n",
        "      pprime[w] = t\n",
        "      loss = obj(pprime, optlayer, optneuron)\n",
        "      if loss > best:\n",
        "        best = loss\n",
        "        minparams = pprime.detach().clone()\n",
        "  if best == oldbest:\n",
        "    print(f'\\nMin Activation: {tok.decode(minparams.to(torch.int))}, Activation = {-best} ')\n",
        "    break"
      ],
      "metadata": {
        "colab": {
          "base_uri": "https://localhost:8080/"
        },
        "id": "b5nuG4y2Z910",
        "outputId": "99efdc3f-cdb7-44e5-c2dc-f3f781da3c0f"
      },
      "execution_count": 159,
      "outputs": [
        {
          "output_type": "stream",
          "name": "stdout",
          "text": [
            "Pass 1: 3.20208477973938\n"
          ]
        },
        {
          "output_type": "stream",
          "name": "stderr",
          "text": [
            "100%|██████████| 512/512 [00:23<00:00, 21.95it/s]\n"
          ]
        },
        {
          "output_type": "stream",
          "name": "stdout",
          "text": [
            "Pass 2: 16.1527042388916\n"
          ]
        },
        {
          "output_type": "stream",
          "name": "stderr",
          "text": [
            "100%|██████████| 512/512 [00:23<00:00, 21.81it/s]\n"
          ]
        },
        {
          "output_type": "stream",
          "name": "stdout",
          "text": [
            "Pass 3: 16.43670654296875\n"
          ]
        },
        {
          "output_type": "stream",
          "name": "stderr",
          "text": [
            "100%|██████████| 512/512 [00:23<00:00, 22.20it/s]"
          ]
        },
        {
          "output_type": "stream",
          "name": "stdout",
          "text": [
            "\n",
            "Min Activation:  NemDex Hod vit vit, Activation = -16.43670654296875 \n"
          ]
        },
        {
          "output_type": "stream",
          "name": "stderr",
          "text": [
            "\n"
          ]
        }
      ]
    },
    {
      "cell_type": "code",
      "source": [
        "print(torch.cat((minparams,maxparams)))"
      ],
      "metadata": {
        "colab": {
          "base_uri": "https://localhost:8080/"
        },
        "id": "Jy0oIsb4iV_4",
        "outputId": "14f0cba0-4378-4ddf-df1f-06f6022a4ebc"
      },
      "execution_count": 160,
      "outputs": [
        {
          "output_type": "stream",
          "name": "stdout",
          "text": [
            "tensor([22547., 48875., 22816.,  9090.,  9090., 43763., 43486., 33420.,  6717.,\n",
            "        37148.], device='cuda:0', dtype=torch.float64)\n"
          ]
        }
      ]
    },
    {
      "cell_type": "code",
      "source": [
        "print(obj(maxparams, optlayer, optneuron))\n",
        "print(obj(minparams, optlayer, optneuron))\n",
        "print(obj(torch.cat((maxparams,minparams)), optlayer, optneuron))\n",
        "print(obj(torch.cat((minparams,maxparams)), optlayer, optneuron))"
      ],
      "metadata": {
        "colab": {
          "base_uri": "https://localhost:8080/"
        },
        "id": "2Qad6f9OcPxH",
        "outputId": "6047cf22-73a4-4078-ad40-246a23046652"
      },
      "execution_count": 161,
      "outputs": [
        {
          "output_type": "stream",
          "name": "stdout",
          "text": [
            "tensor(-14.8558, device='cuda:0', grad_fn=<MeanBackward0>)\n",
            "tensor(16.4367, device='cuda:0', grad_fn=<MeanBackward0>)\n",
            "tensor(-6.5323, device='cuda:0', grad_fn=<MeanBackward0>)\n",
            "tensor(2.8838, device='cuda:0', grad_fn=<MeanBackward0>)\n"
          ]
        }
      ]
    },
    {
      "cell_type": "code",
      "source": [
        "def compare(wordsA, wordsB):\n",
        "  \n",
        "  diffs = np.zeros([12,748])\n",
        "\n",
        "  for l in range(12):\n",
        "    for n in tqdm(range(748)):\n",
        "      amean = 0\n",
        "      for w in wordsA:\n",
        "        t = tok.encode(w, return_tensors = 'pt').to(device)\n",
        "        amean += obj(t, l, n).item()\n",
        "      amean /= len(wordsA)\n",
        "\n",
        "      bmean = 0\n",
        "      for w in wordsB:\n",
        "        t = tok.encode(w, return_tensors = 'pt').to(device)\n",
        "        bmean += obj(t, l, n).item()\n",
        "      bmean /= len(wordsB)\n",
        "      diff = -(amean-bmean) #Negative obj => activation\n",
        "      diffs[l,n] = diff\n",
        "  \n",
        "  return diffs\n",
        "\n",
        "\n",
        "def ncompare(wordsA, wordsB, l, n):\n",
        "  \n",
        "  amean = 0\n",
        "  for w in wordsA:\n",
        "    t = tok.encode(w, return_tensors = 'pt').to(device)\n",
        "    amean += obj(t, l, n).item()\n",
        "  amean /= len(wordsA)\n",
        "\n",
        "  bmean = 0\n",
        "  for w in wordsB:\n",
        "    t = tok.encode(w, return_tensors = 'pt').to(device)\n",
        "    bmean += obj(t, l, n).item()\n",
        "  bmean /= len(wordsB)\n",
        "  diff = -(amean-bmean) #Negative obj => activation\n",
        "\n",
        "  return amean, bmean, diff"
      ],
      "metadata": {
        "id": "QJDLQn6PduID"
      },
      "execution_count": 174,
      "outputs": []
    },
    {
      "cell_type": "code",
      "source": [
        "def parsecompare(diffs, outs = 15):\n",
        "  dmax = np.argsort(np.abs(diffs), axis = None)[-outs:]\n",
        "  dlen = len(diffs[0])\n",
        "  neurons = [[x//dlen, x%dlen, diffs[x//dlen][x%dlen]] for x in dmax]\n",
        "  for l,n,d in neurons:\n",
        "    print(f'Layer {l}, Neuron {n}: {np.round(d, 5)}')\n",
        "  return neurons"
      ],
      "metadata": {
        "id": "8JP6juAJiQnv"
      },
      "execution_count": 191,
      "outputs": []
    },
    {
      "cell_type": "code",
      "source": [
        "wA = ['quick', 'true', 'good']\n",
        "wB = ['quickly', 'truly', 'well']\n",
        "\n",
        "\n",
        "d1 = compare(wA, wB)\n",
        "n1 = parsecompare(d1)\n"
      ],
      "metadata": {
        "colab": {
          "base_uri": "https://localhost:8080/"
        },
        "id": "9plU7fGYh_Tf",
        "outputId": "d5bbeb4f-f770-4145-d286-21ac0b547c10"
      },
      "execution_count": 316,
      "outputs": [
        {
          "output_type": "stream",
          "name": "stderr",
          "text": [
            "100%|██████████| 748/748 [00:47<00:00, 15.71it/s]\n",
            "100%|██████████| 748/748 [00:43<00:00, 17.35it/s]\n",
            "100%|██████████| 748/748 [00:43<00:00, 17.30it/s]\n",
            "100%|██████████| 748/748 [00:43<00:00, 17.17it/s]\n",
            "100%|██████████| 748/748 [00:43<00:00, 17.18it/s]\n",
            "100%|██████████| 748/748 [00:43<00:00, 17.31it/s]\n",
            "100%|██████████| 748/748 [00:43<00:00, 17.01it/s]\n",
            "100%|██████████| 748/748 [00:43<00:00, 17.11it/s]\n",
            "100%|██████████| 748/748 [00:43<00:00, 17.16it/s]\n",
            "100%|██████████| 748/748 [00:43<00:00, 17.07it/s]\n",
            "100%|██████████| 748/748 [00:43<00:00, 17.04it/s]\n",
            "100%|██████████| 748/748 [00:44<00:00, 16.94it/s]"
          ]
        },
        {
          "output_type": "stream",
          "name": "stdout",
          "text": [
            "Layer 10, Neuron 138: -236.58989\n",
            "Layer 9, Neuron 138: -237.55456\n",
            "Layer 8, Neuron 138: -238.34406\n",
            "Layer 7, Neuron 138: -239.03957\n",
            "Layer 6, Neuron 138: -239.69101\n",
            "Layer 5, Neuron 138: -240.09257\n",
            "Layer 3, Neuron 447: -762.21965\n",
            "Layer 4, Neuron 447: -803.51921\n",
            "Layer 5, Neuron 447: -846.02266\n",
            "Layer 11, Neuron 447: -870.20691\n",
            "Layer 6, Neuron 447: -872.03524\n",
            "Layer 7, Neuron 447: -886.7207\n",
            "Layer 10, Neuron 447: -894.14726\n",
            "Layer 8, Neuron 447: -894.88668\n",
            "Layer 9, Neuron 447: -896.53495\n"
          ]
        },
        {
          "output_type": "stream",
          "name": "stderr",
          "text": [
            "\n"
          ]
        }
      ]
    },
    {
      "cell_type": "code",
      "source": [
        "ddel = d1.copy()\n",
        "ddel[:,138] = 0\n",
        "ddel[:,447] = 0\n",
        "\n",
        "n1 = parsecompare(ddel)"
      ],
      "metadata": {
        "colab": {
          "base_uri": "https://localhost:8080/"
        },
        "id": "LkaafmhbW7Hq",
        "outputId": "c217bef4-b11b-4cd1-c20d-0d832a77afc8"
      },
      "execution_count": 320,
      "outputs": [
        {
          "output_type": "stream",
          "name": "stdout",
          "text": [
            "Layer 9, Neuron 373: -12.84391\n",
            "Layer 9, Neuron 378: 13.16265\n",
            "Layer 9, Neuron 481: 14.11415\n",
            "Layer 8, Neuron 378: 14.86781\n",
            "Layer 7, Neuron 378: 16.75904\n",
            "Layer 6, Neuron 378: 18.78217\n",
            "Layer 10, Neuron 373: -19.3925\n",
            "Layer 5, Neuron 378: 20.30649\n",
            "Layer 10, Neuron 481: 20.66901\n",
            "Layer 4, Neuron 378: 20.74897\n",
            "Layer 3, Neuron 378: 21.01327\n",
            "Layer 2, Neuron 378: 21.89308\n",
            "Layer 1, Neuron 378: 25.01204\n",
            "Layer 11, Neuron 481: 49.69864\n",
            "Layer 11, Neuron 373: -50.48909\n"
          ]
        }
      ]
    },
    {
      "cell_type": "code",
      "source": [
        "\n",
        "graphs = np.array(n1).T\n",
        "# print(graphs)\n",
        "\n",
        "nnames = np.flip(np.array([str(n[0]) + '.' + str(n[1]) for n in n1]))\n",
        "\n",
        "plt.bar(nnames, np.flip(graphs[2]))\n",
        "\n",
        "plt.title(f\"Max Diff: \\\"{', '.join(wA)}\\\" vs \\\"{', '.join(wB)}\\\"\")\n",
        "plt.xticks(rotation = 75)\n",
        "plt.show()"
      ],
      "metadata": {
        "colab": {
          "base_uri": "https://localhost:8080/",
          "height": 308
        },
        "id": "ZbYENPYyTGX6",
        "outputId": "95afafc4-bd8c-4bb5-89ec-12320aa37266"
      },
      "execution_count": 321,
      "outputs": [
        {
          "output_type": "display_data",
          "data": {
            "image/png": "[encoded data removed]",
            "text/plain": [
              "<Figure size 432x288 with 1 Axes>"
            ]
          },
          "metadata": {
            "needs_background": "light"
          }
        }
      ]
    }
  ]
}