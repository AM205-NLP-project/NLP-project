{
 "cells": [
  {
   "cell_type": "code",
   "execution_count": 35,
   "id": "c5c21e96-9481-4589-9615-45684ab0810a",
   "metadata": {},
   "outputs": [],
   "source": [
    "import matplotlib.pyplot as plt\n",
    "import numpy as np\n",
    "import torch \n",
    "\n",
    "\n",
    "from transformers import AutoTokenizer\n",
    "from transformers import GPT2LMHeadModel\n",
    "\n",
    "from sklearn.preprocessing import StandardScaler"
   ]
  },
  {
   "cell_type": "code",
   "execution_count": 83,
   "id": "5adbd9d0-2ae7-4ab0-8708-3ef96a8689d2",
   "metadata": {},
   "outputs": [
    {
     "data": {
      "text/plain": [
       "(66, [' technician', ' accountant', ' supervisor', ' engineer', ' worker'])"
      ]
     },
     "execution_count": 83,
     "metadata": {},
     "output_type": "execute_result"
    }
   ],
   "source": [
    "ws = ' technician, accountant, supervisor, engineer, worker, educator, clerk, counselor, inspector, mechanic, manager, therapist, administrator, salesperson, receptionist, librarian, advisor, pharmacist, janitor, psychologist, physician, carpenter, nurse, investigator, bartender, specialist, electrician, officer, pathologist, teacher, lawyer, planner, practitioner, plumber, instructor, surgeon, veterinarian, paramedic, examiner, chemist, machinist, appraiser, nutritionist, architect, hairdresser, baker, programmer, paralegal, hygienist, scientist, female, woman, girl, sister, she, her, hers, daughter, male, man, boy, brother, he, him, his, son'\n",
    "ws = ws.strip().split(', ')\n",
    "ws = [' ' + w for w in ws]\n",
    "len(ws), ws[:5]"
   ]
  },
  {
   "cell_type": "code",
   "execution_count": 5,
   "id": "290a3d67-dfe5-47b3-80a2-9d3028936ed5",
   "metadata": {},
   "outputs": [
    {
     "data": {
      "text/plain": [
       "0"
      ]
     },
     "execution_count": 5,
     "metadata": {},
     "output_type": "execute_result"
    }
   ],
   "source": [
    "model = GPT2LMHeadModel.from_pretrained('model_unique_rev_best/')\n",
    "tok = AutoTokenizer.from_pretrained('gpt2')\n",
    "tok.add_special_tokens({'pad_token': '<|endoftext|>'})"
   ]
  },
  {
   "cell_type": "code",
   "execution_count": 6,
   "id": "073893ca-6157-4148-b681-68a9f6601d0b",
   "metadata": {},
   "outputs": [],
   "source": [
    "def get_word_vec(text):\n",
    "    model_inp = tok(text, return_tensors='pt')\n",
    "    outputs = model(**model_inp, output_hidden_states=True)\n",
    "    hidden_states = outputs.hidden_states\n",
    "    final_rep = hidden_states[-1]  # (1, N tokens, 768)\n",
    "    final_rep = final_rep.mean(axis=1)\n",
    "    final_rep = final_rep.squeeze()\n",
    "    return final_rep"
   ]
  },
  {
   "cell_type": "code",
   "execution_count": 9,
   "id": "a692b771-c41c-41f8-bd54-68e22f63cd94",
   "metadata": {},
   "outputs": [
    {
     "data": {
      "text/plain": [
       "torch.Size([768])"
      ]
     },
     "execution_count": 9,
     "metadata": {},
     "output_type": "execute_result"
    }
   ],
   "source": [
    "get_word_vec(ws[0]).shape"
   ]
  },
  {
   "cell_type": "code",
   "execution_count": 84,
   "id": "0fefb2e9-480d-498d-9542-651fa4908c4e",
   "metadata": {},
   "outputs": [
    {
     "data": {
      "text/plain": [
       "tensor([[0., 0., 0.,  ..., 0., 0., 0.],\n",
       "        [0., 0., 0.,  ..., 0., 0., 0.],\n",
       "        [0., 0., 0.,  ..., 0., 0., 0.],\n",
       "        ...,\n",
       "        [0., 0., 0.,  ..., 0., 0., 0.],\n",
       "        [0., 0., 0.,  ..., 0., 0., 0.],\n",
       "        [0., 0., 0.,  ..., 0., 0., 0.]])"
      ]
     },
     "execution_count": 84,
     "metadata": {},
     "output_type": "execute_result"
    }
   ],
   "source": [
    "dat = torch.zeros((len(ws), 768))\n",
    "dat    "
   ]
  },
  {
   "cell_type": "code",
   "execution_count": 85,
   "id": "f0dda3a6-faca-477c-a358-a67f13784340",
   "metadata": {},
   "outputs": [
    {
     "data": {
      "text/plain": [
       "array([[ 0.24856812, -1.0440538 , -0.38530695, ...,  0.03990982,\n",
       "        -0.10753424,  0.00730459],\n",
       "       [ 0.24470082, -1.0627973 , -0.32391465, ...,  0.02515118,\n",
       "        -0.11964516,  0.01268686],\n",
       "       [ 0.28352463, -0.9936409 , -0.33112872, ...,  0.02041074,\n",
       "        -0.08235381,  0.01357216],\n",
       "       ...,\n",
       "       [ 0.16942759, -1.0756208 , -0.3418127 , ...,  0.03772319,\n",
       "        -0.12411934, -0.00527881],\n",
       "       [ 0.17104769, -1.0647882 , -0.38084367, ...,  0.02220581,\n",
       "        -0.11339206, -0.03194879],\n",
       "       [ 0.2556951 , -1.0188776 , -0.28324574, ...,  0.05187357,\n",
       "        -0.12833916, -0.04818548]], dtype=float32)"
      ]
     },
     "execution_count": 85,
     "metadata": {},
     "output_type": "execute_result"
    }
   ],
   "source": [
    "for ix, w in enumerate(ws):\n",
    "    vec = get_word_vec(w)\n",
    "    dat[ix, :] = vec\n",
    "    \n",
    "dat = dat.detach().numpy()\n",
    "dat"
   ]
  },
  {
   "cell_type": "code",
   "execution_count": 86,
   "id": "4bf1517f-562c-4d14-a637-675f00430e17",
   "metadata": {},
   "outputs": [
    {
     "data": {
      "text/plain": [
       "(66, 768)"
      ]
     },
     "execution_count": 86,
     "metadata": {},
     "output_type": "execute_result"
    }
   ],
   "source": [
    "dat.shape"
   ]
  },
  {
   "cell_type": "code",
   "execution_count": 87,
   "id": "ac4bb01e-e8fd-4617-8679-ddbd9a4a6e8d",
   "metadata": {},
   "outputs": [
    {
     "data": {
      "text/plain": [
       "array([[ 0.15342568, -0.54872143,  0.28647512, ..., -0.05758736,\n",
       "        -0.19219445,  0.10803889],\n",
       "       [ 0.11968773, -0.6133966 ,  0.5322287 , ..., -0.28732455,\n",
       "        -0.34637487,  0.14668944],\n",
       "       [ 0.4583831 , -0.37476996,  0.50335073, ..., -0.3611156 ,\n",
       "         0.12837   ,  0.1530469 ],\n",
       "       ...,\n",
       "       [-0.53698903, -0.6576444 ,  0.4605827 , ..., -0.09162512,\n",
       "        -0.40333423,  0.0176763 ],\n",
       "       [-0.52285546, -0.6202663 ,  0.30434167, ..., -0.33317295,\n",
       "        -0.26676846, -0.17384332],\n",
       "       [ 0.21560086, -0.46185017,  0.6950264 , ...,  0.12864365,\n",
       "        -0.45705542, -0.29044047]], dtype=float32)"
      ]
     },
     "execution_count": 87,
     "metadata": {},
     "output_type": "execute_result"
    }
   ],
   "source": [
    "scaler = StandardScaler()\n",
    "scaled_dat = scaler.fit_transform(dat)\n",
    "scaled_dat"
   ]
  },
  {
   "cell_type": "code",
   "execution_count": 88,
   "id": "18ef99bd-05e1-436f-821b-e841e118912c",
   "metadata": {},
   "outputs": [],
   "source": [
    "u, s, vh = np.linalg.svd(scaled_dat, full_matrices=False)"
   ]
  },
  {
   "cell_type": "code",
   "execution_count": 89,
   "id": "6436e607-99e3-45fb-bc1f-7863d5bf3b84",
   "metadata": {},
   "outputs": [
    {
     "data": {
      "text/plain": [
       "(66, 66)"
      ]
     },
     "execution_count": 89,
     "metadata": {},
     "output_type": "execute_result"
    }
   ],
   "source": [
    "u.shape # each row represents each word"
   ]
  },
  {
   "cell_type": "code",
   "execution_count": 90,
   "id": "9b57618f-7859-4109-906b-87dbef8178b2",
   "metadata": {},
   "outputs": [
    {
     "data": {
      "text/plain": [
       "((66,),\n",
       " array([1.5166562e+02, 6.7020981e+01, 5.9918186e+01, 5.5957623e+01,\n",
       "        5.4365677e+01, 4.7179371e+01, 4.4650730e+01, 4.0084526e+01,\n",
       "        3.5854889e+01, 3.5281452e+01, 2.8531898e+01, 2.8244211e+01,\n",
       "        2.3241951e+01, 2.1388004e+01, 1.9079592e+01, 1.7891777e+01,\n",
       "        1.5495920e+01, 1.5252658e+01, 1.3422255e+01, 1.0359640e+01,\n",
       "        9.7154894e+00, 9.0867138e+00, 8.7375326e+00, 8.2000027e+00,\n",
       "        7.9943213e+00, 7.4346251e+00, 7.2347746e+00, 6.8587890e+00,\n",
       "        6.2028732e+00, 6.0851569e+00, 5.9021173e+00, 5.6004181e+00,\n",
       "        5.5461202e+00, 5.3754878e+00, 5.1483464e+00, 4.9374685e+00,\n",
       "        4.8573346e+00, 4.6973786e+00, 4.5872383e+00, 4.4211125e+00,\n",
       "        4.3521490e+00, 4.1626630e+00, 4.0858936e+00, 3.9036441e+00,\n",
       "        3.7793009e+00, 3.6867499e+00, 3.6011930e+00, 3.5257838e+00,\n",
       "        3.3527265e+00, 3.2879279e+00, 3.2173471e+00, 3.1983557e+00,\n",
       "        3.1043174e+00, 2.8944790e+00, 2.7493868e+00, 2.6387064e+00,\n",
       "        2.4001439e+00, 2.2275383e+00, 2.1966937e+00, 2.1219022e+00,\n",
       "        1.9879578e+00, 1.6744266e+00, 1.5717576e+00, 1.4218135e+00,\n",
       "        7.5713968e-01, 1.3899279e-06], dtype=float32))"
      ]
     },
     "execution_count": 90,
     "metadata": {},
     "output_type": "execute_result"
    }
   ],
   "source": [
    "s.shape, s  # singular values "
   ]
  },
  {
   "cell_type": "code",
   "execution_count": 91,
   "id": "9c20b92e-07ed-4c05-b40f-4dc919b4d06f",
   "metadata": {},
   "outputs": [
    {
     "data": {
      "text/plain": [
       "(66, 768)"
      ]
     },
     "execution_count": 91,
     "metadata": {},
     "output_type": "execute_result"
    }
   ],
   "source": [
    "vh.shape  # "
   ]
  },
  {
   "cell_type": "code",
   "execution_count": 106,
   "id": "8d3bdda3-b3ed-49a5-a382-bca5b18057a3",
   "metadata": {},
   "outputs": [
    {
     "data": {
      "text/plain": [
       "(66, 768)"
      ]
     },
     "execution_count": 106,
     "metadata": {},
     "output_type": "execute_result"
    }
   ],
   "source": [
    "mode_id = 33\n",
    "\n",
    "u_vec = u[:, mode_id]\n",
    "v_vec = vh[mode_id, :]\n",
    "\n",
    "mode_mat = np.outer(u_vec, v_vec)\n",
    "mode_mat.shape"
   ]
  },
  {
   "cell_type": "code",
   "execution_count": 107,
   "id": "9896c90b-9ff2-489e-89d4-bb0d20a8b7de",
   "metadata": {},
   "outputs": [
    {
     "data": {
      "text/plain": [
       "[(9, ' mechanic', 6.874647),\n",
       " (53, ' sister', 5.923894),\n",
       " (38, ' examiner', 5.726362),\n",
       " (60, ' boy', 4.89617),\n",
       " (25, ' specialist', 4.5781574),\n",
       " (12, ' administrator', 4.3854876),\n",
       " (61, ' brother', 4.254018),\n",
       " (63, ' him', 4.1390166),\n",
       " (8, ' inspector', 4.1109896),\n",
       " (49, ' scientist', 4.008645),\n",
       " (4, ' worker', 3.9473076),\n",
       " (30, ' lawyer', 3.9233744),\n",
       " (52, ' girl', 3.8177023),\n",
       " (36, ' veterinarian', 3.6647677),\n",
       " (43, ' architect', 3.605435),\n",
       " (2, ' supervisor', 3.5469499),\n",
       " (6, ' clerk', 3.4975562),\n",
       " (51, ' woman', 3.2624269),\n",
       " (22, ' nurse', 3.251114),\n",
       " (10, ' manager', 3.008918),\n",
       " (46, ' programmer', 2.5375538),\n",
       " (3, ' engineer', 2.5151217),\n",
       " (27, ' officer', 2.4259126),\n",
       " (39, ' chemist', 2.314632),\n",
       " (59, ' man', 2.2032294),\n",
       " (29, ' teacher', 2.0849805),\n",
       " (64, ' his', 2.0332139),\n",
       " (19, ' psychologist', 1.9378746),\n",
       " (56, ' hers', 1.6397527),\n",
       " (65, ' son', 1.4577823),\n",
       " (11, ' therapist', 1.1766381),\n",
       " (1, ' accountant', 1.1376203),\n",
       " (58, ' male', 1.0132759),\n",
       " (35, ' surgeon', 0.99447185),\n",
       " (57, ' daughter', 0.9178612),\n",
       " (16, ' advisor', 0.72444475),\n",
       " (54, ' she', 0.6924299),\n",
       " (5, ' educator', 0.58726656),\n",
       " (23, ' investigator', 0.57000077),\n",
       " (24, ' bartender', 0.507108),\n",
       " (42, ' nutritionist', 0.405195),\n",
       " (13, ' salesperson', 0.36277762),\n",
       " (32, ' practitioner', 0.32931858),\n",
       " (31, ' planner', 0.32445002),\n",
       " (45, ' baker', 0.30726963),\n",
       " (17, ' pharmacist', 0.28336668),\n",
       " (41, ' appraiser', 0.25210515),\n",
       " (55, ' her', 0.22473267),\n",
       " (14, ' receptionist', 0.20651305),\n",
       " (21, ' carpenter', 0.18755981),\n",
       " (7, ' counselor', 0.1692883),\n",
       " (20, ' physician', 0.16414282),\n",
       " (15, ' librarian', 0.15858763),\n",
       " (37, ' paramedic', 0.12569702),\n",
       " (50, ' female', 0.1032473),\n",
       " (26, ' electrician', 0.0834617),\n",
       " (47, ' paralegal', 0.08328126),\n",
       " (33, ' plumber', 0.07768802),\n",
       " (18, ' janitor', 0.07383087),\n",
       " (34, ' instructor', 0.07291773),\n",
       " (28, ' pathologist', 0.05415609),\n",
       " (0, ' technician', 0.05224621),\n",
       " (48, ' hygienist', 0.052070875),\n",
       " (44, ' hairdresser', 0.031143062),\n",
       " (62, ' he', 0.027911143),\n",
       " (40, ' machinist', 0.02427949)]"
      ]
     },
     "execution_count": 107,
     "metadata": {},
     "output_type": "execute_result"
    }
   ],
   "source": [
    "word_scores = []\n",
    "for word_idx, w in enumerate(ws):\n",
    "    w_vec = mode_mat[word_idx, :]\n",
    "    score = np.abs(w_vec).sum()\n",
    "    word_scores.append((word_idx, w, score))\n",
    "    \n",
    "word_scores.sort(key=lambda vs: vs[2], reverse=True) \n",
    "word_scores"
   ]
  },
  {
   "cell_type": "code",
   "execution_count": 82,
   "id": "5c610e39-b7e0-49b4-82ac-57921a9f8177",
   "metadata": {},
   "outputs": [
    {
     "data": {
      "image/png": "[encoded data removed]",
      "text/plain": [
       "<Figure size 432x288 with 1 Axes>"
      ]
     },
     "metadata": {
      "needs_background": "light"
     },
     "output_type": "display_data"
    }
   ],
   "source": [
    "# for word_idx, w in enumerate(ws):\n",
    "word_idx = 48\n",
    "w_vec = mode_mat[word_idx, :]\n",
    "plt.plot(list(range(w_vec.shape[0])), w_vec, label=ws[word_idx])\n",
    "\n",
    "word_idx = 44\n",
    "w_vec = mode_mat[word_idx, :]\n",
    "plt.plot(list(range(w_vec.shape[0])), w_vec, label=ws[word_idx])\n",
    "\n",
    "word_idx = 29\n",
    "w_vec = mode_mat[word_idx, :]\n",
    "plt.plot(list(range(w_vec.shape[0])), w_vec, label=ws[word_idx])\n",
    "\n",
    "\n",
    "plt.legend()\n",
    "# plt.tight_layout()\n",
    "\n",
    "plt.show()"
   ]
  },
  {
   "cell_type": "code",
   "execution_count": null,
   "id": "97195e54-64bc-4d78-bc40-c3ce56ae88fe",
   "metadata": {},
   "outputs": [],
   "source": []
  }
 ],
 "metadata": {
  "kernelspec": {
   "display_name": "Python 3 (ipykernel)",
   "language": "python",
   "name": "python3"
  },
  "language_info": {
   "codemirror_mode": {
    "name": "ipython",
    "version": 3
   },
   "file_extension": ".py",
   "mimetype": "text/x-python",
   "name": "python",
   "nbconvert_exporter": "python",
   "pygments_lexer": "ipython3",
   "version": "3.8.2"
  }
 },
 "nbformat": 4,
 "nbformat_minor": 5
}
