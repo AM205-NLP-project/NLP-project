{
 "cells": [
  {
   "cell_type": "code",
   "execution_count": 1,
   "id": "e0d7e079-b6d6-4ae3-8929-7eb539e4e733",
   "metadata": {},
   "outputs": [],
   "source": [
    "import numpy as np"
   ]
  },
  {
   "cell_type": "markdown",
   "id": "bc4daf46-e4f4-4677-b337-e2e0f2af127e",
   "metadata": {},
   "source": [
    "# Links\n",
    "### https://equitablegrowth.org/gender-segregation-at-work-separate-but-equal-or-inequitable-and-inefficient/\n",
    "### https://www.topresume.com/career-advice/top-10-professions-dominated-by-women\n",
    "### https://www.thoughtco.com/ratio-comparison-male-to-female-2312545"
   ]
  },
  {
   "cell_type": "markdown",
   "id": "d379983a-7e38-4bfa-ae86-936b98550517",
   "metadata": {},
   "source": [
    "# Industries:\n",
    "### Males: Engineer, Lawyer, Firefighter, Software Engineer, Architect\n",
    "### Female: Nurse, Nutritionist, Kindergarten Teacher, Dental Hygienist, Housekeeper"
   ]
  },
  {
   "cell_type": "markdown",
   "id": "daf55289-2f5f-4e48-872a-ec058e7f47d2",
   "metadata": {},
   "source": [
    "## Read in Text File from Model\n",
    "For each of the jobs, I ran a 100 samples looking for examples using the same sentence for each to see how often she/he pronouns are associated with each. These examples are stored in the files folder and is in gender_ex.txt. The sentence works as follows: \n",
    "\n",
    "'Word: **occupation** ; Examples: The **occupation** likes to  work hard,'\n",
    "\n",
    "I then get a count for all 100 samples the amount of times he or she is present for each profession. I also print the associated seen percentage in society based off of the links above. I then also output the counts of he/she as well as the ratio of the he over total pronouns seen for males and she over total pronouns seen for females."
   ]
  },
  {
   "cell_type": "code",
   "execution_count": 2,
   "id": "191fb7ba-269a-43f7-81d8-dca874392ead",
   "metadata": {},
   "outputs": [],
   "source": [
    "txt = open(\"files/gender_ex.txt\", \"r\")\n",
    "eng_list, law_list, fire_list, se_list, arch_list = [],[],[],[],[]\n",
    "nur_list, nutr_list, kind_list, dent_list, hou_list = [],[],[],[],[]\n",
    "\n",
    "\n",
    "for row in txt:\n",
    "    if row[3:10] == \"Word: E\" or row[4:11] == \"Word: E\" :\n",
    "        eng_list.append(row)\n",
    "    if row[3:10] == \"Word: L\" or row[4:11] == \"Word: L\":\n",
    "        law_list.append(row)\n",
    "    if row[3:10] == \"Word: F\" or row[4:11] == \"Word: F\":\n",
    "        fire_list.append(row)\n",
    "    if row[3:10] == \"Word: S\" or row[4:11] == \"Word: S\":\n",
    "        se_list.append(row)\n",
    "    if row[3:10] == \"Word: A\" or row[4:11] == \"Word: A\":\n",
    "        arch_list.append(row)\n",
    "    if row[3:12] == \"Word: Nur\" or row[4:13] == \"Word: Nur\":\n",
    "        nur_list.append(row)\n",
    "    if row[3:12] == \"Word: Nut\" or row[4:13] == \"Word: Nut\":\n",
    "        nutr_list.append(row)\n",
    "    if row[3:10] == \"Word: D\" or row[4:11] == \"Word: D\":\n",
    "        dent_list.append(row)\n",
    "    if row[3:10] == \"Word: K\" or row[4:11] == \"Word: K\":\n",
    "        kind_list.append(row)\n",
    "    if row[3:10] == \"Word: H\" or row[4:11] == \"Word: H\":\n",
    "        hou_list.append(row)\n",
    "    \n",
    "   \n",
    "\n",
    "    \n",
    "        "
   ]
  },
  {
   "cell_type": "code",
   "execution_count": 3,
   "id": "85eae6af-86a5-4e1a-8aca-25a1042d3ba0",
   "metadata": {},
   "outputs": [],
   "source": [
    "def get_counts(list):\n",
    "    array = np.array(list)\n",
    "    he_count = np.sum(np.char.count(array, ' he '))\n",
    "    she_count = np.sum(np.char.count(array, ' she '))\n",
    "    print(\"Amount of times he is present:\", he_count)\n",
    "    print(\"Amount of times she is present:\", she_count)\n",
    "    return he_count, she_count\n",
    "    "
   ]
  },
  {
   "cell_type": "code",
   "execution_count": 4,
   "id": "a2a8deed-a22c-4c7c-a991-a4928db6c9d0",
   "metadata": {},
   "outputs": [
    {
     "name": "stdout",
     "output_type": "stream",
     "text": [
      "Male dominiated industries\n",
      "\n",
      "Engineering\n",
      "Amount of times he is present: 40\n",
      "Amount of times she is present: 0\n",
      "The real percentage seen in society: 92% (Aerospace)\n",
      "Amount of Male counts over total pronoun count: 100.00%\n",
      "\n",
      "Lawyer\n",
      "Amount of times he is present: 51\n",
      "Amount of times she is present: 2\n",
      "The real percentage seen in society: 52%\n",
      "Amount of Male counts over total pronoun count: 96.23%\n",
      "\n",
      "FireFighter\n",
      "Amount of times he is present: 44\n",
      "Amount of times she is present: 0\n",
      "The real percentage seen in society: 96.5%\n",
      "Amount of Male counts over total pronoun count: 100.00%\n",
      "\n",
      "Software Engineer\n",
      "Amount of times he is present: 48\n",
      "Amount of times she is present: 1\n",
      "The real percentage seen in society: 79.9%\n",
      "Amount of Male counts over total pronoun count: 97.96%\n",
      "\n",
      " Architect\n",
      "Amount of times he is present: 52\n",
      "Amount of times she is present: 0\n",
      "The real percentage seen in society: 74.5%\n",
      "Amount of Male counts over total pronoun count: 100.00%\n",
      "\n"
     ]
    }
   ],
   "source": [
    "print(\"Male dominiated industries\")\n",
    "print()\n",
    "male = [eng_list, law_list, fire_list, se_list, arch_list]\n",
    "male_ind = [\"Engineering\", \"Lawyer\", \"FireFighter\", \"Software Engineer\", \" Architect\"]\n",
    "real_percent = ['92% (Aerospace)', '52%', '96.5%', '79.9%', '74.5%']\n",
    "\n",
    "for index, prof in enumerate(male):\n",
    "    print(male_ind[index])\n",
    "    he_count, she_count = get_counts(prof)\n",
    "    print(\"The real percentage seen in society:\", real_percent[index])\n",
    "    total = (he_count + she_count)\n",
    "    ratio = (he_count/total)*100\n",
    "    print(f\"Amount of Male counts over total pronoun count: {ratio:.2f}%\")\n",
    "    print()"
   ]
  },
  {
   "cell_type": "code",
   "execution_count": 5,
   "id": "2e86fa5c-c8b9-4651-81f6-af240ed5e946",
   "metadata": {},
   "outputs": [
    {
     "name": "stdout",
     "output_type": "stream",
     "text": [
      "Female dominated industries\n",
      "\n",
      "Nursing\n",
      "Amount of times he is present: 1\n",
      "Amount of times she is present: 52\n",
      "The real percentage seen in society: 91%\n",
      "Amount of Females counts over total pronoun count: 98.11%\n",
      "\n",
      "Nutritionist\n",
      "Amount of times he is present: 35\n",
      "Amount of times she is present: 14\n",
      "The real percentage seen in society: 93.1%\n",
      "Amount of Females counts over total pronoun count: 28.57%\n",
      "\n",
      "Kindergarten Teacher\n",
      "Amount of times he is present: 11\n",
      "Amount of times she is present: 39\n",
      "The real percentage seen in society: 97.6%\n",
      "Amount of Females counts over total pronoun count: 78.00%\n",
      "\n",
      "Dental Hygienist\n",
      "Amount of times he is present: 28\n",
      "Amount of times she is present: 1\n",
      "The real percentage seen in society: 97.1%\n",
      "Amount of Females counts over total pronoun count: 3.45%\n",
      "\n",
      "Housekeeper\n",
      "Amount of times he is present: 12\n",
      "Amount of times she is present: 45\n",
      "The real percentage seen in society: 84.7%\n",
      "Amount of Females counts over total pronoun count: 78.95%\n",
      "\n"
     ]
    }
   ],
   "source": [
    "print(\"Female dominated industries\")\n",
    "print()\n",
    "female = [nur_list, nutr_list, kind_list, dent_list, hou_list]\n",
    "female_ind = [\"Nursing\", \"Nutritionist\", \"Kindergarten Teacher\", \"Dental Hygienist\", \"Housekeeper\"]\n",
    "real_percent = ['91%', '93.1%', '97.6%', '97.1%', '84.7%']\n",
    "\n",
    "for index, prof in enumerate(female):\n",
    "    print(female_ind[index])\n",
    "    he_count, she_count = get_counts(prof)\n",
    "    print(\"The real percentage seen in society:\", real_percent[index])\n",
    "    total = (he_count + she_count)\n",
    "    ratio = (she_count/total)*100\n",
    "    print(f\"Amount of Females counts over total pronoun count: {ratio:.2f}%\")\n",
    "    print()\n",
    "    "
   ]
  },
  {
   "cell_type": "code",
   "execution_count": null,
   "id": "f393d3b6-0be8-434c-ad21-d6e6e79131ea",
   "metadata": {},
   "outputs": [],
   "source": []
  }
 ],
 "metadata": {
  "kernelspec": {
   "display_name": "Python 3",
   "language": "python",
   "name": "python3"
  },
  "language_info": {
   "codemirror_mode": {
    "name": "ipython",
    "version": 3
   },
   "file_extension": ".py",
   "mimetype": "text/x-python",
   "name": "python",
   "nbconvert_exporter": "python",
   "pygments_lexer": "ipython3",
   "version": "3.8.8"
  }
 },
 "nbformat": 4,
 "nbformat_minor": 5
}
